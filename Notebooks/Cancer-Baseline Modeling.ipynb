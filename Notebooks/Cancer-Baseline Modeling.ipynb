{
 "cells": [
  {
   "cell_type": "markdown",
   "id": "203a690f",
   "metadata": {},
   "source": [
    "# Cancer-Baseline Modeling"
   ]
  },
  {
   "cell_type": "markdown",
   "id": "30614209",
   "metadata": {},
   "source": [
    "**Author's Name: Haya Hadaya**"
   ]
  },
  {
   "cell_type": "markdown",
   "id": "77651651",
   "metadata": {},
   "source": [
    "**Table of Content:**"
   ]
  },
  {
   "cell_type": "markdown",
   "id": "45be32be",
   "metadata": {},
   "source": [
    "1.[Introduction](#Introduction)\n",
    "\n",
    "2.[Data Dictionary](#Data-Dictionary)\n",
    "\n",
    "3.[Part 1: Preprocessed Data Exploration](#Preprocessed-Data-Exploration)\n",
    "\n",
    "4.[Part 2: Feature Engineering & Preprocessing](#Feature-Engineering-&-Preprocessing)\n",
    "\n",
    "5.[Part 3: Baseline Modeling](#Baseline-Modeling)\n",
    "- [Part 3.1 Logestic Regression Model](#Logestic-Regression-Model)\n",
    "- [Part 3.2 Random Forest Classifier](#Random-Forest-Classifier)\n",
    "\n",
    "6.[Conclusion](#Conclusion)"
   ]
  },
  {
   "cell_type": "markdown",
   "id": "1d617e8f",
   "metadata": {},
   "source": [
    "## Introduction<a id=\"Introduction\"></a>"
   ]
  },
  {
   "cell_type": "markdown",
   "id": "1f2f48e8",
   "metadata": {},
   "source": [
    "This report delves deeply into dataset preparation, preprocessing, and modeling, structured to establish a strong foundation by incorporating baseline models. The preparatory steps include thorough data preprocessing involving infrequent value grouping in categorical variables and implementing PCA. Two primary baseline models, Logistic Regression and Random Forest, are each evaluated in two forms: with and without PCA. This strategy allows an assessment of how dimensionality reduction impacts model performance.\n",
    "\n",
    "The model evaluation framework focuses on key metrics such as accuracy, recall, precision, F1 score, and ROC-AUC. Emphasizing beyond accuracy, particular attention is given to recall and precision, crucial in reflecting real-world performance. The models' performance is comprehensively assessed and compared across various dimensions: recall scores, the balance between recall and precision, the harmonized F1 score, and the overall discriminative capability represented by ROC-AUC.\n",
    "\n",
    "Through this comprehensive evaluation, the report aims to establish a clear understanding of model performance under diverse conditions, shedding light on their suitability and effectiveness for practical real-world applications."
   ]
  },
  {
   "cell_type": "markdown",
   "id": "3ccf79ef",
   "metadata": {},
   "source": [
    "## Data Dictionary<a id=\"Data-Dictionary\"></a>"
   ]
  },
  {
   "cell_type": "markdown",
   "id": "dcccfe06",
   "metadata": {},
   "source": [
    "|Features|Description|Values| \n",
    "|-----|:-----|:-----|\n",
    "|_RFHLTH|Adults with good or better health|1:Good or Better Health, 2:Fair or Poor Health, 9:Don't know/Not Sure Or Refused/Missing| \n",
    "|SEXVAR|Sex of Respondent|1:Male, 2:Female|\n",
    "| TOLDHI3 |High cholesterol levels|1:Yes, 2:No , 7:Don’t know/Not Sure Or Refused/Missing| \n",
    "| CHECKUP1 |About how long has it been since a person visited a doctor for a routine checkup|1:within past year, 2:Within past 2 years, 3:Within past 5 years ,4: 5 or more years ago , 7:Don’t know/Not sure, 8:Never , 9:Refused  |\n",
    "| CHCCOPD3 |A person had C.O.P.D. (chronic obstructive pulmonary disease), emphysema or chronic bronchitis|1:Yes, 2:No , 7:Don’t know/Not Sure, 9: Refused  |\n",
    "| HAVARTH5 | A person had some form of arthritis, rheumatoid arthritis, gout, lupus, or fibromyalgia|1:Yes, 2:No , 7:Don’t know/Not Sure, 9: Refused  |\n",
    " | DIABETE4 | A person had diabetes|1:Yes, 2:Yes, but female told only during pregnancy , 3:No , 4:No, pre-diabetes or borderline diabetes, 7:Don’t know/Not Sure, 9: Refused  |\n",
    "| _RFHYPE6  | Adults who have been told they have high blood pressure|1:No, 2:Yes, 9:Don’t know/Not Sure/Refused/Missing|\n",
    "| _PHYS14D |  3 level not good physical health status: 0 days, 1-13 days, 14-30 days|1:Zero days when physical health not good, 2:(1-13) days when physical health not good, 3:(14+) days when physical health not good , 9:Don’t know/Not Sure/Refused/Missing|\n",
    "|_AGE_G | Six-level imputed age category|1:Age 18 to 24, 2:Age 25 to 34, 3: Age 35 to 44  , 4:Age 45 to 54 , 5:Age 55 to 64 , 6:Age 65 or older|\n",
    "|_IMPRACE | Imputed race/ethnicity value|1: White, Non-Hispanic, 2: Black, Non-Hispanic, 3: Asian, Non-Hispanic,4:American Indian/Alaskan Native, Non-Hispanic, 5:Hispanic, 6:Other race, Non-Hispanic   |\n",
    "|_RFBMI5 | Adults who have a body mass index greater than 25.00 (Overweight or Obese) |1:No , 2:Yes, 9:Don’t know/Refused/Missing |\n",
    "|_SMOKER3 | Four-level smoker status: Everyday smoker, Someday smoker, Former smoker, Non-smoker |1:Current smoker, 2:Current smoker, 3:Former smoker , 4:Never smoked, 9:Don’t know/Refused/Missing |\n",
    "|_RFDRHV7 | Heavy drinkers (adult men having more than 14 drinks per week and adult women having more than 7 drinks per week)  |1:No , 2:Yes, 9:Don’t know/Refused/Missing |\n",
    "|_TOTINDA | Adults who reported doing physical activity or exercise during the past 30 days other than their regular job  |1:Had physical activity or exercise, 2:No physical activity or exercise in last 30 days, 9:Don’t know/Refused/Missing |\n",
    "|CHCKDNY2 |kidney disease presence|1:Yes, 2:No , 7:Don’t know / Not sure , 9:refused |\n",
    "|_FRTLT1A |Consume Fruit 1 or more times per day|1:Consumed fruit one or more times per day, 2:Consumed fruit < one time per day , 9:Don´t know, refused or missing values |\n",
    "|Cancer |Risk of presence or absence of Cancer|1:Presence of Cancer ,0:Absence of Cancer |\n"
   ]
  },
  {
   "cell_type": "markdown",
   "id": "0624fa8a",
   "metadata": {},
   "source": [
    "## Part 1:Preprocessed Data Exploration<a id=\"Preprocessed-Data-Exploration\"></a>"
   ]
  },
  {
   "cell_type": "markdown",
   "id": "3eebd008",
   "metadata": {},
   "source": [
    "We will start with importing some important libraries:"
   ]
  },
  {
   "cell_type": "code",
   "execution_count": 2,
   "id": "80aabd1e",
   "metadata": {},
   "outputs": [],
   "source": [
    "#importing libraries\n",
    "import pandas as pd\n",
    "import numpy as np\n",
    "import matplotlib.pyplot as plt\n",
    "import seaborn as sns\n",
    "from sklearn.decomposition import PCA\n",
    "from sklearn.model_selection import train_test_split\n",
    "from sklearn.linear_model import LogisticRegression\n",
    "from sklearn.metrics import accuracy_score\n",
    "from sklearn.model_selection import GridSearchCV, StratifiedKFold\n",
    "from sklearn.model_selection import GridSearchCV\n",
    "import plotly.graph_objects as go\n",
    "from sklearn.metrics import roc_curve, roc_auc_score\n",
    "from sklearn.svm import SVC\n",
    "from sklearn.ensemble import RandomForestClassifier\n",
    "from sklearn.metrics import classification_report\n",
    "from sklearn.metrics import recall_score\n"
   ]
  },
  {
   "cell_type": "markdown",
   "id": "d0440500",
   "metadata": {},
   "source": [
    "Then , we will load our data"
   ]
  },
  {
   "cell_type": "code",
   "execution_count": 6,
   "id": "90624f79",
   "metadata": {},
   "outputs": [],
   "source": [
    "# To load the data\n",
    "df = pd.read_csv('cancer.csv')"
   ]
  },
  {
   "cell_type": "markdown",
   "id": "2e46f50a",
   "metadata": {},
   "source": [
    "To display and check our columns:"
   ]
  },
  {
   "cell_type": "code",
   "execution_count": 7,
   "id": "90eb45ec",
   "metadata": {},
   "outputs": [],
   "source": [
    "# To check all the columns in our dataset :\n",
    "pd.set_option('display.max_columns', None)"
   ]
  },
  {
   "cell_type": "code",
   "execution_count": 8,
   "id": "7aabcfc2",
   "metadata": {},
   "outputs": [
    {
     "data": {
      "text/html": [
       "<div>\n",
       "<style scoped>\n",
       "    .dataframe tbody tr th:only-of-type {\n",
       "        vertical-align: middle;\n",
       "    }\n",
       "\n",
       "    .dataframe tbody tr th {\n",
       "        vertical-align: top;\n",
       "    }\n",
       "\n",
       "    .dataframe thead th {\n",
       "        text-align: right;\n",
       "    }\n",
       "</style>\n",
       "<table border=\"1\" class=\"dataframe\">\n",
       "  <thead>\n",
       "    <tr style=\"text-align: right;\">\n",
       "      <th></th>\n",
       "      <th>Cancer</th>\n",
       "      <th>_RFHLTH_1.0</th>\n",
       "      <th>_RFHLTH_2.0</th>\n",
       "      <th>TOLDHI3_1.0</th>\n",
       "      <th>TOLDHI3_2.0</th>\n",
       "      <th>CHECKUP1_1.0</th>\n",
       "      <th>CHECKUP1_2.0</th>\n",
       "      <th>CHECKUP1_3.0</th>\n",
       "      <th>CHECKUP1_4.0</th>\n",
       "      <th>CHECKUP1_7.0</th>\n",
       "      <th>CHECKUP1_8.0</th>\n",
       "      <th>SEXVAR_2.0</th>\n",
       "      <th>CHCCOPD3_1.0</th>\n",
       "      <th>CHCCOPD3_2.0</th>\n",
       "      <th>CHCCOPD3_7.0</th>\n",
       "      <th>HAVARTH5_1.0</th>\n",
       "      <th>HAVARTH5_2.0</th>\n",
       "      <th>HAVARTH5_7.0</th>\n",
       "      <th>DIABETE4_1.0</th>\n",
       "      <th>DIABETE4_2.0</th>\n",
       "      <th>DIABETE4_3.0</th>\n",
       "      <th>DIABETE4_4.0</th>\n",
       "      <th>DIABETE4_7.0</th>\n",
       "      <th>_RFHYPE6_1.0</th>\n",
       "      <th>_RFHYPE6_2.0</th>\n",
       "      <th>_PHYS14D_1.0</th>\n",
       "      <th>_PHYS14D_2.0</th>\n",
       "      <th>_PHYS14D_3.0</th>\n",
       "      <th>_AGE_G_2.0</th>\n",
       "      <th>_AGE_G_3.0</th>\n",
       "      <th>_AGE_G_4.0</th>\n",
       "      <th>_AGE_G_5.0</th>\n",
       "      <th>_AGE_G_6.0</th>\n",
       "      <th>_IMPRACE_1.0</th>\n",
       "      <th>_IMPRACE_2.0</th>\n",
       "      <th>_IMPRACE_4.0</th>\n",
       "      <th>_IMPRACE_5.0</th>\n",
       "      <th>_IMPRACE_6.0</th>\n",
       "      <th>_RFBMI5_1.0</th>\n",
       "      <th>_RFBMI5_2.0</th>\n",
       "      <th>_SMOKER3_1.0</th>\n",
       "      <th>_SMOKER3_2.0</th>\n",
       "      <th>_SMOKER3_3.0</th>\n",
       "      <th>_SMOKER3_4.0</th>\n",
       "      <th>_RFDRHV7_1.0</th>\n",
       "      <th>_RFDRHV7_2.0</th>\n",
       "      <th>_TOTINDA_1.0</th>\n",
       "      <th>_TOTINDA_2.0</th>\n",
       "      <th>CHCKDNY2_1.0</th>\n",
       "      <th>CHCKDNY2_2.0</th>\n",
       "      <th>CHCKDNY2_7.0</th>\n",
       "      <th>_FRTLT1A_1.0</th>\n",
       "      <th>_FRTLT1A_2.0</th>\n",
       "    </tr>\n",
       "  </thead>\n",
       "  <tbody>\n",
       "    <tr>\n",
       "      <th>0</th>\n",
       "      <td>0</td>\n",
       "      <td>0</td>\n",
       "      <td>1</td>\n",
       "      <td>1</td>\n",
       "      <td>0</td>\n",
       "      <td>0</td>\n",
       "      <td>1</td>\n",
       "      <td>0</td>\n",
       "      <td>0</td>\n",
       "      <td>0</td>\n",
       "      <td>0</td>\n",
       "      <td>1</td>\n",
       "      <td>1</td>\n",
       "      <td>0</td>\n",
       "      <td>0</td>\n",
       "      <td>1</td>\n",
       "      <td>0</td>\n",
       "      <td>0</td>\n",
       "      <td>0</td>\n",
       "      <td>0</td>\n",
       "      <td>1</td>\n",
       "      <td>0</td>\n",
       "      <td>0</td>\n",
       "      <td>1</td>\n",
       "      <td>0</td>\n",
       "      <td>0</td>\n",
       "      <td>0</td>\n",
       "      <td>1</td>\n",
       "      <td>0</td>\n",
       "      <td>0</td>\n",
       "      <td>0</td>\n",
       "      <td>0</td>\n",
       "      <td>1</td>\n",
       "      <td>1</td>\n",
       "      <td>0</td>\n",
       "      <td>0</td>\n",
       "      <td>0</td>\n",
       "      <td>0</td>\n",
       "      <td>1</td>\n",
       "      <td>0</td>\n",
       "      <td>0</td>\n",
       "      <td>0</td>\n",
       "      <td>1</td>\n",
       "      <td>0</td>\n",
       "      <td>1</td>\n",
       "      <td>0</td>\n",
       "      <td>0</td>\n",
       "      <td>1</td>\n",
       "      <td>0</td>\n",
       "      <td>1</td>\n",
       "      <td>0</td>\n",
       "      <td>1</td>\n",
       "      <td>0</td>\n",
       "    </tr>\n",
       "    <tr>\n",
       "      <th>1</th>\n",
       "      <td>0</td>\n",
       "      <td>1</td>\n",
       "      <td>0</td>\n",
       "      <td>1</td>\n",
       "      <td>0</td>\n",
       "      <td>1</td>\n",
       "      <td>0</td>\n",
       "      <td>0</td>\n",
       "      <td>0</td>\n",
       "      <td>0</td>\n",
       "      <td>0</td>\n",
       "      <td>1</td>\n",
       "      <td>0</td>\n",
       "      <td>1</td>\n",
       "      <td>0</td>\n",
       "      <td>1</td>\n",
       "      <td>0</td>\n",
       "      <td>0</td>\n",
       "      <td>1</td>\n",
       "      <td>0</td>\n",
       "      <td>0</td>\n",
       "      <td>0</td>\n",
       "      <td>0</td>\n",
       "      <td>0</td>\n",
       "      <td>1</td>\n",
       "      <td>1</td>\n",
       "      <td>0</td>\n",
       "      <td>0</td>\n",
       "      <td>0</td>\n",
       "      <td>0</td>\n",
       "      <td>0</td>\n",
       "      <td>0</td>\n",
       "      <td>1</td>\n",
       "      <td>0</td>\n",
       "      <td>1</td>\n",
       "      <td>0</td>\n",
       "      <td>0</td>\n",
       "      <td>0</td>\n",
       "      <td>0</td>\n",
       "      <td>0</td>\n",
       "      <td>0</td>\n",
       "      <td>0</td>\n",
       "      <td>0</td>\n",
       "      <td>1</td>\n",
       "      <td>1</td>\n",
       "      <td>0</td>\n",
       "      <td>1</td>\n",
       "      <td>0</td>\n",
       "      <td>1</td>\n",
       "      <td>0</td>\n",
       "      <td>0</td>\n",
       "      <td>1</td>\n",
       "      <td>0</td>\n",
       "    </tr>\n",
       "    <tr>\n",
       "      <th>2</th>\n",
       "      <td>0</td>\n",
       "      <td>1</td>\n",
       "      <td>0</td>\n",
       "      <td>0</td>\n",
       "      <td>1</td>\n",
       "      <td>1</td>\n",
       "      <td>0</td>\n",
       "      <td>0</td>\n",
       "      <td>0</td>\n",
       "      <td>0</td>\n",
       "      <td>0</td>\n",
       "      <td>1</td>\n",
       "      <td>0</td>\n",
       "      <td>1</td>\n",
       "      <td>0</td>\n",
       "      <td>0</td>\n",
       "      <td>1</td>\n",
       "      <td>0</td>\n",
       "      <td>1</td>\n",
       "      <td>0</td>\n",
       "      <td>0</td>\n",
       "      <td>0</td>\n",
       "      <td>0</td>\n",
       "      <td>0</td>\n",
       "      <td>1</td>\n",
       "      <td>1</td>\n",
       "      <td>0</td>\n",
       "      <td>0</td>\n",
       "      <td>0</td>\n",
       "      <td>0</td>\n",
       "      <td>0</td>\n",
       "      <td>0</td>\n",
       "      <td>1</td>\n",
       "      <td>0</td>\n",
       "      <td>1</td>\n",
       "      <td>0</td>\n",
       "      <td>0</td>\n",
       "      <td>0</td>\n",
       "      <td>0</td>\n",
       "      <td>1</td>\n",
       "      <td>0</td>\n",
       "      <td>0</td>\n",
       "      <td>0</td>\n",
       "      <td>1</td>\n",
       "      <td>1</td>\n",
       "      <td>0</td>\n",
       "      <td>0</td>\n",
       "      <td>1</td>\n",
       "      <td>0</td>\n",
       "      <td>1</td>\n",
       "      <td>0</td>\n",
       "      <td>1</td>\n",
       "      <td>0</td>\n",
       "    </tr>\n",
       "    <tr>\n",
       "      <th>3</th>\n",
       "      <td>0</td>\n",
       "      <td>1</td>\n",
       "      <td>0</td>\n",
       "      <td>1</td>\n",
       "      <td>0</td>\n",
       "      <td>1</td>\n",
       "      <td>0</td>\n",
       "      <td>0</td>\n",
       "      <td>0</td>\n",
       "      <td>0</td>\n",
       "      <td>0</td>\n",
       "      <td>1</td>\n",
       "      <td>0</td>\n",
       "      <td>1</td>\n",
       "      <td>0</td>\n",
       "      <td>0</td>\n",
       "      <td>1</td>\n",
       "      <td>0</td>\n",
       "      <td>1</td>\n",
       "      <td>0</td>\n",
       "      <td>0</td>\n",
       "      <td>0</td>\n",
       "      <td>0</td>\n",
       "      <td>0</td>\n",
       "      <td>1</td>\n",
       "      <td>1</td>\n",
       "      <td>0</td>\n",
       "      <td>0</td>\n",
       "      <td>0</td>\n",
       "      <td>0</td>\n",
       "      <td>0</td>\n",
       "      <td>1</td>\n",
       "      <td>0</td>\n",
       "      <td>1</td>\n",
       "      <td>0</td>\n",
       "      <td>0</td>\n",
       "      <td>0</td>\n",
       "      <td>0</td>\n",
       "      <td>0</td>\n",
       "      <td>1</td>\n",
       "      <td>0</td>\n",
       "      <td>0</td>\n",
       "      <td>0</td>\n",
       "      <td>1</td>\n",
       "      <td>1</td>\n",
       "      <td>0</td>\n",
       "      <td>1</td>\n",
       "      <td>0</td>\n",
       "      <td>0</td>\n",
       "      <td>1</td>\n",
       "      <td>0</td>\n",
       "      <td>1</td>\n",
       "      <td>0</td>\n",
       "    </tr>\n",
       "    <tr>\n",
       "      <th>4</th>\n",
       "      <td>0</td>\n",
       "      <td>0</td>\n",
       "      <td>1</td>\n",
       "      <td>1</td>\n",
       "      <td>0</td>\n",
       "      <td>1</td>\n",
       "      <td>0</td>\n",
       "      <td>0</td>\n",
       "      <td>0</td>\n",
       "      <td>0</td>\n",
       "      <td>0</td>\n",
       "      <td>0</td>\n",
       "      <td>0</td>\n",
       "      <td>1</td>\n",
       "      <td>0</td>\n",
       "      <td>0</td>\n",
       "      <td>1</td>\n",
       "      <td>0</td>\n",
       "      <td>1</td>\n",
       "      <td>0</td>\n",
       "      <td>0</td>\n",
       "      <td>0</td>\n",
       "      <td>0</td>\n",
       "      <td>1</td>\n",
       "      <td>0</td>\n",
       "      <td>0</td>\n",
       "      <td>0</td>\n",
       "      <td>1</td>\n",
       "      <td>0</td>\n",
       "      <td>0</td>\n",
       "      <td>0</td>\n",
       "      <td>0</td>\n",
       "      <td>1</td>\n",
       "      <td>0</td>\n",
       "      <td>0</td>\n",
       "      <td>0</td>\n",
       "      <td>0</td>\n",
       "      <td>1</td>\n",
       "      <td>0</td>\n",
       "      <td>1</td>\n",
       "      <td>0</td>\n",
       "      <td>0</td>\n",
       "      <td>0</td>\n",
       "      <td>1</td>\n",
       "      <td>1</td>\n",
       "      <td>0</td>\n",
       "      <td>1</td>\n",
       "      <td>0</td>\n",
       "      <td>0</td>\n",
       "      <td>1</td>\n",
       "      <td>0</td>\n",
       "      <td>1</td>\n",
       "      <td>0</td>\n",
       "    </tr>\n",
       "  </tbody>\n",
       "</table>\n",
       "</div>"
      ],
      "text/plain": [
       "   Cancer  _RFHLTH_1.0  _RFHLTH_2.0  TOLDHI3_1.0  TOLDHI3_2.0  CHECKUP1_1.0  \\\n",
       "0       0            0            1            1            0             0   \n",
       "1       0            1            0            1            0             1   \n",
       "2       0            1            0            0            1             1   \n",
       "3       0            1            0            1            0             1   \n",
       "4       0            0            1            1            0             1   \n",
       "\n",
       "   CHECKUP1_2.0  CHECKUP1_3.0  CHECKUP1_4.0  CHECKUP1_7.0  CHECKUP1_8.0  \\\n",
       "0             1             0             0             0             0   \n",
       "1             0             0             0             0             0   \n",
       "2             0             0             0             0             0   \n",
       "3             0             0             0             0             0   \n",
       "4             0             0             0             0             0   \n",
       "\n",
       "   SEXVAR_2.0  CHCCOPD3_1.0  CHCCOPD3_2.0  CHCCOPD3_7.0  HAVARTH5_1.0  \\\n",
       "0           1             1             0             0             1   \n",
       "1           1             0             1             0             1   \n",
       "2           1             0             1             0             0   \n",
       "3           1             0             1             0             0   \n",
       "4           0             0             1             0             0   \n",
       "\n",
       "   HAVARTH5_2.0  HAVARTH5_7.0  DIABETE4_1.0  DIABETE4_2.0  DIABETE4_3.0  \\\n",
       "0             0             0             0             0             1   \n",
       "1             0             0             1             0             0   \n",
       "2             1             0             1             0             0   \n",
       "3             1             0             1             0             0   \n",
       "4             1             0             1             0             0   \n",
       "\n",
       "   DIABETE4_4.0  DIABETE4_7.0  _RFHYPE6_1.0  _RFHYPE6_2.0  _PHYS14D_1.0  \\\n",
       "0             0             0             1             0             0   \n",
       "1             0             0             0             1             1   \n",
       "2             0             0             0             1             1   \n",
       "3             0             0             0             1             1   \n",
       "4             0             0             1             0             0   \n",
       "\n",
       "   _PHYS14D_2.0  _PHYS14D_3.0  _AGE_G_2.0  _AGE_G_3.0  _AGE_G_4.0  _AGE_G_5.0  \\\n",
       "0             0             1           0           0           0           0   \n",
       "1             0             0           0           0           0           0   \n",
       "2             0             0           0           0           0           0   \n",
       "3             0             0           0           0           0           1   \n",
       "4             0             1           0           0           0           0   \n",
       "\n",
       "   _AGE_G_6.0  _IMPRACE_1.0  _IMPRACE_2.0  _IMPRACE_4.0  _IMPRACE_5.0  \\\n",
       "0           1             1             0             0             0   \n",
       "1           1             0             1             0             0   \n",
       "2           1             0             1             0             0   \n",
       "3           0             1             0             0             0   \n",
       "4           1             0             0             0             0   \n",
       "\n",
       "   _IMPRACE_6.0  _RFBMI5_1.0  _RFBMI5_2.0  _SMOKER3_1.0  _SMOKER3_2.0  \\\n",
       "0             0            1            0             0             0   \n",
       "1             0            0            0             0             0   \n",
       "2             0            0            1             0             0   \n",
       "3             0            0            1             0             0   \n",
       "4             1            0            1             0             0   \n",
       "\n",
       "   _SMOKER3_3.0  _SMOKER3_4.0  _RFDRHV7_1.0  _RFDRHV7_2.0  _TOTINDA_1.0  \\\n",
       "0             1             0             1             0             0   \n",
       "1             0             1             1             0             1   \n",
       "2             0             1             1             0             0   \n",
       "3             0             1             1             0             1   \n",
       "4             0             1             1             0             1   \n",
       "\n",
       "   _TOTINDA_2.0  CHCKDNY2_1.0  CHCKDNY2_2.0  CHCKDNY2_7.0  _FRTLT1A_1.0  \\\n",
       "0             1             0             1             0             1   \n",
       "1             0             1             0             0             1   \n",
       "2             1             0             1             0             1   \n",
       "3             0             0             1             0             1   \n",
       "4             0             0             1             0             1   \n",
       "\n",
       "   _FRTLT1A_2.0  \n",
       "0             0  \n",
       "1             0  \n",
       "2             0  \n",
       "3             0  \n",
       "4             0  "
      ]
     },
     "metadata": {},
     "output_type": "display_data"
    }
   ],
   "source": [
    "#To get the first five rows we use .head function\n",
    "\n",
    "display(df.head())"
   ]
  },
  {
   "cell_type": "markdown",
   "id": "5ad3a825",
   "metadata": {},
   "source": [
    "To check the shape of our dataset :"
   ]
  },
  {
   "cell_type": "code",
   "execution_count": 5,
   "id": "c6265416",
   "metadata": {},
   "outputs": [
    {
     "data": {
      "text/plain": [
       "(438690, 53)"
      ]
     },
     "execution_count": 5,
     "metadata": {},
     "output_type": "execute_result"
    }
   ],
   "source": [
    "#To check the shape of the dataframe\n",
    "df.shape"
   ]
  },
  {
   "cell_type": "markdown",
   "id": "4475785a",
   "metadata": {},
   "source": [
    "We have 438690 rows and 53 columns in our dataset."
   ]
  },
  {
   "cell_type": "markdown",
   "id": "d05c9958",
   "metadata": {},
   "source": [
    "To check for null values :"
   ]
  },
  {
   "cell_type": "code",
   "execution_count": 9,
   "id": "5cb9a265",
   "metadata": {},
   "outputs": [
    {
     "name": "stdout",
     "output_type": "stream",
     "text": [
      "Cancer          0\n",
      "_RFHLTH_1.0     0\n",
      "_RFHLTH_2.0     0\n",
      "TOLDHI3_1.0     0\n",
      "TOLDHI3_2.0     0\n",
      "CHECKUP1_1.0    0\n",
      "CHECKUP1_2.0    0\n",
      "CHECKUP1_3.0    0\n",
      "CHECKUP1_4.0    0\n",
      "CHECKUP1_7.0    0\n",
      "CHECKUP1_8.0    0\n",
      "SEXVAR_2.0      0\n",
      "CHCCOPD3_1.0    0\n",
      "CHCCOPD3_2.0    0\n",
      "CHCCOPD3_7.0    0\n",
      "HAVARTH5_1.0    0\n",
      "HAVARTH5_2.0    0\n",
      "HAVARTH5_7.0    0\n",
      "DIABETE4_1.0    0\n",
      "DIABETE4_2.0    0\n",
      "DIABETE4_3.0    0\n",
      "DIABETE4_4.0    0\n",
      "DIABETE4_7.0    0\n",
      "_RFHYPE6_1.0    0\n",
      "_RFHYPE6_2.0    0\n",
      "_PHYS14D_1.0    0\n",
      "_PHYS14D_2.0    0\n",
      "_PHYS14D_3.0    0\n",
      "_AGE_G_2.0      0\n",
      "_AGE_G_3.0      0\n",
      "_AGE_G_4.0      0\n",
      "_AGE_G_5.0      0\n",
      "_AGE_G_6.0      0\n",
      "_IMPRACE_1.0    0\n",
      "_IMPRACE_2.0    0\n",
      "_IMPRACE_4.0    0\n",
      "_IMPRACE_5.0    0\n",
      "_IMPRACE_6.0    0\n",
      "_RFBMI5_1.0     0\n",
      "_RFBMI5_2.0     0\n",
      "_SMOKER3_1.0    0\n",
      "_SMOKER3_2.0    0\n",
      "_SMOKER3_3.0    0\n",
      "_SMOKER3_4.0    0\n",
      "_RFDRHV7_1.0    0\n",
      "_RFDRHV7_2.0    0\n",
      "_TOTINDA_1.0    0\n",
      "_TOTINDA_2.0    0\n",
      "CHCKDNY2_1.0    0\n",
      "CHCKDNY2_2.0    0\n",
      "CHCKDNY2_7.0    0\n",
      "_FRTLT1A_1.0    0\n",
      "_FRTLT1A_2.0    0\n",
      "dtype: int64\n"
     ]
    }
   ],
   "source": [
    "# Check for missing values\n",
    "print(df.isnull().sum())"
   ]
  },
  {
   "cell_type": "markdown",
   "id": "0676a184",
   "metadata": {},
   "source": [
    "There is zero null values"
   ]
  },
  {
   "cell_type": "markdown",
   "id": "409116eb",
   "metadata": {},
   "source": [
    "## Part 2: Feature Engineering & Preprocessing<a id=\"Feature-Engineering-&-Preprocessing\"></a>"
   ]
  },
  {
   "cell_type": "markdown",
   "id": "c5055074",
   "metadata": {},
   "source": [
    "After creating dummy variables for all of our categorical columns , we will try to employ multiple dimensionality reduction techniques on the dataset, including both grouping infrequent values in categorical variables and applying PCA. We will start with grouping infrequent values in categorical variables to reduce Model Complexity,improve Generalization and enhance interpretability."
   ]
  },
  {
   "cell_type": "markdown",
   "id": "db9bb334",
   "metadata": {},
   "source": [
    "**1.Combining _AGE_G_2.0 and _AGE_G_3.0**"
   ]
  },
  {
   "cell_type": "code",
   "execution_count": 6,
   "id": "5df628ef",
   "metadata": {},
   "outputs": [],
   "source": [
    "# Create a new column '_AGE_GROUP_(25-44)' by combining '_AGE_G_2.0' and '_AGE_G_3.0'\n",
    "df['_AGE_GROUP_(25-44)'] = 0  # Initialize with 0\n",
    "\n",
    "# Update values based on conditions\n",
    "df.loc[(df['_AGE_G_2.0'] == 1) | (df['_AGE_G_3.0'] == 1), '_AGE_GROUP_(25-44)'] = 1"
   ]
  },
  {
   "cell_type": "markdown",
   "id": "ba43fe97",
   "metadata": {},
   "source": [
    "To ensure the accuracy of the combination process , we will count the number of individuals within the age range of 25-44 before and after combining :"
   ]
  },
  {
   "cell_type": "code",
   "execution_count": 7,
   "id": "2ff6cf72",
   "metadata": {},
   "outputs": [
    {
     "name": "stdout",
     "output_type": "stream",
     "text": [
      "Counts match: Number of individuals within the age range (25-44) remains the same.\n"
     ]
    }
   ],
   "source": [
    "# Store the counts of individuals in the age groups (25-34 and 35-44) before combination\n",
    "count_before_combination = df[['_AGE_G_2.0', '_AGE_G_3.0']].sum().sum()\n",
    "# Store the counts of individuals in the age group (25-44) after combination\n",
    "count_after_combination = df['_AGE_GROUP_(25-44)'].sum()\n",
    "\n",
    "# Compare the counts before and after combination\n",
    "if count_before_combination == count_after_combination:\n",
    "    print(\"Counts match: Number of individuals within the age range (25-44) remains the same.\")\n",
    "else:\n",
    "    print(\"Counts do not match: There might be an issue in the combination.\")"
   ]
  },
  {
   "cell_type": "markdown",
   "id": "0715f5f4",
   "metadata": {},
   "source": [
    "The number of individuals within the age range of 25-44 before and after combining the age groups remains equal."
   ]
  },
  {
   "cell_type": "markdown",
   "id": "20a4233f",
   "metadata": {},
   "source": [
    "Now , we can drop the individual columns,"
   ]
  },
  {
   "cell_type": "code",
   "execution_count": 8,
   "id": "1794f1d5",
   "metadata": {},
   "outputs": [],
   "source": [
    "# Drop the individual columns if needed\n",
    "df.drop(['_AGE_G_2.0', '_AGE_G_3.0'], axis=1, inplace=True)"
   ]
  },
  {
   "cell_type": "markdown",
   "id": "f4673cd4",
   "metadata": {},
   "source": [
    "**2.Combining _AGE_G_4.0 and _AGE_G_5.0**"
   ]
  },
  {
   "cell_type": "code",
   "execution_count": 9,
   "id": "3ea4a2c9",
   "metadata": {},
   "outputs": [],
   "source": [
    "# Create a new column '_AGE_GROUP_(45-64)' by combining '_AGE_G_4.0' and '_AGE_G_5.0'\n",
    "df['_AGE_GROUP_(45-64)'] = 0  # Initialize with 0\n",
    "\n",
    "# Update values based on conditions\n",
    "df.loc[(df['_AGE_G_4.0'] == 1) | (df['_AGE_G_5.0'] == 1), '_AGE_GROUP_(45-64)'] = 1\n"
   ]
  },
  {
   "cell_type": "markdown",
   "id": "7dbe2ea6",
   "metadata": {},
   "source": [
    "To ensure the accuracy of the combination process , we will count the number of individuals within the age range of 45-64 before and after combining :"
   ]
  },
  {
   "cell_type": "code",
   "execution_count": 10,
   "id": "8a0cb55e",
   "metadata": {},
   "outputs": [
    {
     "name": "stdout",
     "output_type": "stream",
     "text": [
      "Counts match: Number of individuals within the age range (45-64) remains the same.\n"
     ]
    }
   ],
   "source": [
    "# Store the counts of individuals in the age groups (45-54 and 55-64) before combination\n",
    "count_before_combination = df[['_AGE_G_4.0', '_AGE_G_5.0']].sum().sum()\n",
    "# Store the counts of individuals in the age group (45-64) after combination\n",
    "count_after_combination = df['_AGE_GROUP_(45-64)'].sum()\n",
    "\n",
    "# Compare the counts before and after combination\n",
    "if count_before_combination == count_after_combination:\n",
    "    print(\"Counts match: Number of individuals within the age range (45-64) remains the same.\")\n",
    "else:\n",
    "    print(\"Counts do not match: There might be an issue in the combination.\")"
   ]
  },
  {
   "cell_type": "markdown",
   "id": "a40e6007",
   "metadata": {},
   "source": [
    "The number of individuals within the age range of 45-64 before and after combining the age groups remains equal."
   ]
  },
  {
   "cell_type": "markdown",
   "id": "67756970",
   "metadata": {},
   "source": [
    "Now , we can drop the individual columns,"
   ]
  },
  {
   "cell_type": "code",
   "execution_count": 11,
   "id": "23c92dad",
   "metadata": {},
   "outputs": [],
   "source": [
    "# Drop the individual columns \n",
    "df.drop(['_AGE_G_4.0', '_AGE_G_5.0'], axis=1, inplace=True)"
   ]
  },
  {
   "cell_type": "code",
   "execution_count": 12,
   "id": "40293726",
   "metadata": {},
   "outputs": [
    {
     "data": {
      "text/html": [
       "<div>\n",
       "<style scoped>\n",
       "    .dataframe tbody tr th:only-of-type {\n",
       "        vertical-align: middle;\n",
       "    }\n",
       "\n",
       "    .dataframe tbody tr th {\n",
       "        vertical-align: top;\n",
       "    }\n",
       "\n",
       "    .dataframe thead th {\n",
       "        text-align: right;\n",
       "    }\n",
       "</style>\n",
       "<table border=\"1\" class=\"dataframe\">\n",
       "  <thead>\n",
       "    <tr style=\"text-align: right;\">\n",
       "      <th></th>\n",
       "      <th>Cancer</th>\n",
       "      <th>_RFHLTH_1.0</th>\n",
       "      <th>_RFHLTH_2.0</th>\n",
       "      <th>TOLDHI3_1.0</th>\n",
       "      <th>TOLDHI3_2.0</th>\n",
       "      <th>CHECKUP1_1.0</th>\n",
       "      <th>CHECKUP1_2.0</th>\n",
       "      <th>CHECKUP1_3.0</th>\n",
       "      <th>CHECKUP1_4.0</th>\n",
       "      <th>CHECKUP1_7.0</th>\n",
       "      <th>CHECKUP1_8.0</th>\n",
       "      <th>SEXVAR_2.0</th>\n",
       "      <th>CHCCOPD3_1.0</th>\n",
       "      <th>CHCCOPD3_2.0</th>\n",
       "      <th>CHCCOPD3_7.0</th>\n",
       "      <th>HAVARTH5_1.0</th>\n",
       "      <th>HAVARTH5_2.0</th>\n",
       "      <th>HAVARTH5_7.0</th>\n",
       "      <th>DIABETE4_1.0</th>\n",
       "      <th>DIABETE4_2.0</th>\n",
       "      <th>DIABETE4_3.0</th>\n",
       "      <th>DIABETE4_4.0</th>\n",
       "      <th>DIABETE4_7.0</th>\n",
       "      <th>_RFHYPE6_1.0</th>\n",
       "      <th>_RFHYPE6_2.0</th>\n",
       "      <th>_PHYS14D_1.0</th>\n",
       "      <th>_PHYS14D_2.0</th>\n",
       "      <th>_PHYS14D_3.0</th>\n",
       "      <th>_AGE_G_6.0</th>\n",
       "      <th>_IMPRACE_1.0</th>\n",
       "      <th>_IMPRACE_2.0</th>\n",
       "      <th>_IMPRACE_4.0</th>\n",
       "      <th>_IMPRACE_5.0</th>\n",
       "      <th>_IMPRACE_6.0</th>\n",
       "      <th>_RFBMI5_1.0</th>\n",
       "      <th>_RFBMI5_2.0</th>\n",
       "      <th>_SMOKER3_1.0</th>\n",
       "      <th>_SMOKER3_2.0</th>\n",
       "      <th>_SMOKER3_3.0</th>\n",
       "      <th>_SMOKER3_4.0</th>\n",
       "      <th>_RFDRHV7_1.0</th>\n",
       "      <th>_RFDRHV7_2.0</th>\n",
       "      <th>_TOTINDA_1.0</th>\n",
       "      <th>_TOTINDA_2.0</th>\n",
       "      <th>CHCKDNY2_1.0</th>\n",
       "      <th>CHCKDNY2_2.0</th>\n",
       "      <th>CHCKDNY2_7.0</th>\n",
       "      <th>_FRTLT1A_1.0</th>\n",
       "      <th>_FRTLT1A_2.0</th>\n",
       "      <th>_AGE_GROUP_(25-44)</th>\n",
       "      <th>_AGE_GROUP_(45-64)</th>\n",
       "    </tr>\n",
       "  </thead>\n",
       "  <tbody>\n",
       "    <tr>\n",
       "      <th>0</th>\n",
       "      <td>0</td>\n",
       "      <td>0</td>\n",
       "      <td>1</td>\n",
       "      <td>1</td>\n",
       "      <td>0</td>\n",
       "      <td>0</td>\n",
       "      <td>1</td>\n",
       "      <td>0</td>\n",
       "      <td>0</td>\n",
       "      <td>0</td>\n",
       "      <td>0</td>\n",
       "      <td>1</td>\n",
       "      <td>1</td>\n",
       "      <td>0</td>\n",
       "      <td>0</td>\n",
       "      <td>1</td>\n",
       "      <td>0</td>\n",
       "      <td>0</td>\n",
       "      <td>0</td>\n",
       "      <td>0</td>\n",
       "      <td>1</td>\n",
       "      <td>0</td>\n",
       "      <td>0</td>\n",
       "      <td>1</td>\n",
       "      <td>0</td>\n",
       "      <td>0</td>\n",
       "      <td>0</td>\n",
       "      <td>1</td>\n",
       "      <td>1</td>\n",
       "      <td>1</td>\n",
       "      <td>0</td>\n",
       "      <td>0</td>\n",
       "      <td>0</td>\n",
       "      <td>0</td>\n",
       "      <td>1</td>\n",
       "      <td>0</td>\n",
       "      <td>0</td>\n",
       "      <td>0</td>\n",
       "      <td>1</td>\n",
       "      <td>0</td>\n",
       "      <td>1</td>\n",
       "      <td>0</td>\n",
       "      <td>0</td>\n",
       "      <td>1</td>\n",
       "      <td>0</td>\n",
       "      <td>1</td>\n",
       "      <td>0</td>\n",
       "      <td>1</td>\n",
       "      <td>0</td>\n",
       "      <td>0</td>\n",
       "      <td>0</td>\n",
       "    </tr>\n",
       "    <tr>\n",
       "      <th>1</th>\n",
       "      <td>0</td>\n",
       "      <td>1</td>\n",
       "      <td>0</td>\n",
       "      <td>1</td>\n",
       "      <td>0</td>\n",
       "      <td>1</td>\n",
       "      <td>0</td>\n",
       "      <td>0</td>\n",
       "      <td>0</td>\n",
       "      <td>0</td>\n",
       "      <td>0</td>\n",
       "      <td>1</td>\n",
       "      <td>0</td>\n",
       "      <td>1</td>\n",
       "      <td>0</td>\n",
       "      <td>1</td>\n",
       "      <td>0</td>\n",
       "      <td>0</td>\n",
       "      <td>1</td>\n",
       "      <td>0</td>\n",
       "      <td>0</td>\n",
       "      <td>0</td>\n",
       "      <td>0</td>\n",
       "      <td>0</td>\n",
       "      <td>1</td>\n",
       "      <td>1</td>\n",
       "      <td>0</td>\n",
       "      <td>0</td>\n",
       "      <td>1</td>\n",
       "      <td>0</td>\n",
       "      <td>1</td>\n",
       "      <td>0</td>\n",
       "      <td>0</td>\n",
       "      <td>0</td>\n",
       "      <td>0</td>\n",
       "      <td>0</td>\n",
       "      <td>0</td>\n",
       "      <td>0</td>\n",
       "      <td>0</td>\n",
       "      <td>1</td>\n",
       "      <td>1</td>\n",
       "      <td>0</td>\n",
       "      <td>1</td>\n",
       "      <td>0</td>\n",
       "      <td>1</td>\n",
       "      <td>0</td>\n",
       "      <td>0</td>\n",
       "      <td>1</td>\n",
       "      <td>0</td>\n",
       "      <td>0</td>\n",
       "      <td>0</td>\n",
       "    </tr>\n",
       "    <tr>\n",
       "      <th>2</th>\n",
       "      <td>0</td>\n",
       "      <td>1</td>\n",
       "      <td>0</td>\n",
       "      <td>0</td>\n",
       "      <td>1</td>\n",
       "      <td>1</td>\n",
       "      <td>0</td>\n",
       "      <td>0</td>\n",
       "      <td>0</td>\n",
       "      <td>0</td>\n",
       "      <td>0</td>\n",
       "      <td>1</td>\n",
       "      <td>0</td>\n",
       "      <td>1</td>\n",
       "      <td>0</td>\n",
       "      <td>0</td>\n",
       "      <td>1</td>\n",
       "      <td>0</td>\n",
       "      <td>1</td>\n",
       "      <td>0</td>\n",
       "      <td>0</td>\n",
       "      <td>0</td>\n",
       "      <td>0</td>\n",
       "      <td>0</td>\n",
       "      <td>1</td>\n",
       "      <td>1</td>\n",
       "      <td>0</td>\n",
       "      <td>0</td>\n",
       "      <td>1</td>\n",
       "      <td>0</td>\n",
       "      <td>1</td>\n",
       "      <td>0</td>\n",
       "      <td>0</td>\n",
       "      <td>0</td>\n",
       "      <td>0</td>\n",
       "      <td>1</td>\n",
       "      <td>0</td>\n",
       "      <td>0</td>\n",
       "      <td>0</td>\n",
       "      <td>1</td>\n",
       "      <td>1</td>\n",
       "      <td>0</td>\n",
       "      <td>0</td>\n",
       "      <td>1</td>\n",
       "      <td>0</td>\n",
       "      <td>1</td>\n",
       "      <td>0</td>\n",
       "      <td>1</td>\n",
       "      <td>0</td>\n",
       "      <td>0</td>\n",
       "      <td>0</td>\n",
       "    </tr>\n",
       "    <tr>\n",
       "      <th>3</th>\n",
       "      <td>0</td>\n",
       "      <td>1</td>\n",
       "      <td>0</td>\n",
       "      <td>1</td>\n",
       "      <td>0</td>\n",
       "      <td>1</td>\n",
       "      <td>0</td>\n",
       "      <td>0</td>\n",
       "      <td>0</td>\n",
       "      <td>0</td>\n",
       "      <td>0</td>\n",
       "      <td>1</td>\n",
       "      <td>0</td>\n",
       "      <td>1</td>\n",
       "      <td>0</td>\n",
       "      <td>0</td>\n",
       "      <td>1</td>\n",
       "      <td>0</td>\n",
       "      <td>1</td>\n",
       "      <td>0</td>\n",
       "      <td>0</td>\n",
       "      <td>0</td>\n",
       "      <td>0</td>\n",
       "      <td>0</td>\n",
       "      <td>1</td>\n",
       "      <td>1</td>\n",
       "      <td>0</td>\n",
       "      <td>0</td>\n",
       "      <td>0</td>\n",
       "      <td>1</td>\n",
       "      <td>0</td>\n",
       "      <td>0</td>\n",
       "      <td>0</td>\n",
       "      <td>0</td>\n",
       "      <td>0</td>\n",
       "      <td>1</td>\n",
       "      <td>0</td>\n",
       "      <td>0</td>\n",
       "      <td>0</td>\n",
       "      <td>1</td>\n",
       "      <td>1</td>\n",
       "      <td>0</td>\n",
       "      <td>1</td>\n",
       "      <td>0</td>\n",
       "      <td>0</td>\n",
       "      <td>1</td>\n",
       "      <td>0</td>\n",
       "      <td>1</td>\n",
       "      <td>0</td>\n",
       "      <td>0</td>\n",
       "      <td>1</td>\n",
       "    </tr>\n",
       "    <tr>\n",
       "      <th>4</th>\n",
       "      <td>0</td>\n",
       "      <td>0</td>\n",
       "      <td>1</td>\n",
       "      <td>1</td>\n",
       "      <td>0</td>\n",
       "      <td>1</td>\n",
       "      <td>0</td>\n",
       "      <td>0</td>\n",
       "      <td>0</td>\n",
       "      <td>0</td>\n",
       "      <td>0</td>\n",
       "      <td>0</td>\n",
       "      <td>0</td>\n",
       "      <td>1</td>\n",
       "      <td>0</td>\n",
       "      <td>0</td>\n",
       "      <td>1</td>\n",
       "      <td>0</td>\n",
       "      <td>1</td>\n",
       "      <td>0</td>\n",
       "      <td>0</td>\n",
       "      <td>0</td>\n",
       "      <td>0</td>\n",
       "      <td>1</td>\n",
       "      <td>0</td>\n",
       "      <td>0</td>\n",
       "      <td>0</td>\n",
       "      <td>1</td>\n",
       "      <td>1</td>\n",
       "      <td>0</td>\n",
       "      <td>0</td>\n",
       "      <td>0</td>\n",
       "      <td>0</td>\n",
       "      <td>1</td>\n",
       "      <td>0</td>\n",
       "      <td>1</td>\n",
       "      <td>0</td>\n",
       "      <td>0</td>\n",
       "      <td>0</td>\n",
       "      <td>1</td>\n",
       "      <td>1</td>\n",
       "      <td>0</td>\n",
       "      <td>1</td>\n",
       "      <td>0</td>\n",
       "      <td>0</td>\n",
       "      <td>1</td>\n",
       "      <td>0</td>\n",
       "      <td>1</td>\n",
       "      <td>0</td>\n",
       "      <td>0</td>\n",
       "      <td>0</td>\n",
       "    </tr>\n",
       "  </tbody>\n",
       "</table>\n",
       "</div>"
      ],
      "text/plain": [
       "   Cancer  _RFHLTH_1.0  _RFHLTH_2.0  TOLDHI3_1.0  TOLDHI3_2.0  CHECKUP1_1.0  \\\n",
       "0       0            0            1            1            0             0   \n",
       "1       0            1            0            1            0             1   \n",
       "2       0            1            0            0            1             1   \n",
       "3       0            1            0            1            0             1   \n",
       "4       0            0            1            1            0             1   \n",
       "\n",
       "   CHECKUP1_2.0  CHECKUP1_3.0  CHECKUP1_4.0  CHECKUP1_7.0  CHECKUP1_8.0  \\\n",
       "0             1             0             0             0             0   \n",
       "1             0             0             0             0             0   \n",
       "2             0             0             0             0             0   \n",
       "3             0             0             0             0             0   \n",
       "4             0             0             0             0             0   \n",
       "\n",
       "   SEXVAR_2.0  CHCCOPD3_1.0  CHCCOPD3_2.0  CHCCOPD3_7.0  HAVARTH5_1.0  \\\n",
       "0           1             1             0             0             1   \n",
       "1           1             0             1             0             1   \n",
       "2           1             0             1             0             0   \n",
       "3           1             0             1             0             0   \n",
       "4           0             0             1             0             0   \n",
       "\n",
       "   HAVARTH5_2.0  HAVARTH5_7.0  DIABETE4_1.0  DIABETE4_2.0  DIABETE4_3.0  \\\n",
       "0             0             0             0             0             1   \n",
       "1             0             0             1             0             0   \n",
       "2             1             0             1             0             0   \n",
       "3             1             0             1             0             0   \n",
       "4             1             0             1             0             0   \n",
       "\n",
       "   DIABETE4_4.0  DIABETE4_7.0  _RFHYPE6_1.0  _RFHYPE6_2.0  _PHYS14D_1.0  \\\n",
       "0             0             0             1             0             0   \n",
       "1             0             0             0             1             1   \n",
       "2             0             0             0             1             1   \n",
       "3             0             0             0             1             1   \n",
       "4             0             0             1             0             0   \n",
       "\n",
       "   _PHYS14D_2.0  _PHYS14D_3.0  _AGE_G_6.0  _IMPRACE_1.0  _IMPRACE_2.0  \\\n",
       "0             0             1           1             1             0   \n",
       "1             0             0           1             0             1   \n",
       "2             0             0           1             0             1   \n",
       "3             0             0           0             1             0   \n",
       "4             0             1           1             0             0   \n",
       "\n",
       "   _IMPRACE_4.0  _IMPRACE_5.0  _IMPRACE_6.0  _RFBMI5_1.0  _RFBMI5_2.0  \\\n",
       "0             0             0             0            1            0   \n",
       "1             0             0             0            0            0   \n",
       "2             0             0             0            0            1   \n",
       "3             0             0             0            0            1   \n",
       "4             0             0             1            0            1   \n",
       "\n",
       "   _SMOKER3_1.0  _SMOKER3_2.0  _SMOKER3_3.0  _SMOKER3_4.0  _RFDRHV7_1.0  \\\n",
       "0             0             0             1             0             1   \n",
       "1             0             0             0             1             1   \n",
       "2             0             0             0             1             1   \n",
       "3             0             0             0             1             1   \n",
       "4             0             0             0             1             1   \n",
       "\n",
       "   _RFDRHV7_2.0  _TOTINDA_1.0  _TOTINDA_2.0  CHCKDNY2_1.0  CHCKDNY2_2.0  \\\n",
       "0             0             0             1             0             1   \n",
       "1             0             1             0             1             0   \n",
       "2             0             0             1             0             1   \n",
       "3             0             1             0             0             1   \n",
       "4             0             1             0             0             1   \n",
       "\n",
       "   CHCKDNY2_7.0  _FRTLT1A_1.0  _FRTLT1A_2.0  _AGE_GROUP_(25-44)  \\\n",
       "0             0             1             0                   0   \n",
       "1             0             1             0                   0   \n",
       "2             0             1             0                   0   \n",
       "3             0             1             0                   0   \n",
       "4             0             1             0                   0   \n",
       "\n",
       "   _AGE_GROUP_(45-64)  \n",
       "0                   0  \n",
       "1                   0  \n",
       "2                   0  \n",
       "3                   1  \n",
       "4                   0  "
      ]
     },
     "execution_count": 12,
     "metadata": {},
     "output_type": "execute_result"
    }
   ],
   "source": [
    "#Sanity check for our updated dataframe\n",
    "df.head()"
   ]
  },
  {
   "cell_type": "markdown",
   "id": "25275980",
   "metadata": {},
   "source": [
    "Now , we will find the variance for each feature.Variance can aid in feature selection by providing insights into the discriminatory power and usefulness of each feature in a dataset. "
   ]
  },
  {
   "cell_type": "code",
   "execution_count": 13,
   "id": "df2aad45",
   "metadata": {},
   "outputs": [
    {
     "name": "stdout",
     "output_type": "stream",
     "text": [
      "Cancer                0.087216\n",
      "_RFHLTH_1.0           0.140080\n",
      "_RFHLTH_2.0           0.138320\n",
      "TOLDHI3_1.0           0.224814\n",
      "TOLDHI3_2.0           0.249835\n",
      "CHECKUP1_1.0          0.177719\n",
      "CHECKUP1_2.0          0.103214\n",
      "CHECKUP1_3.0          0.050550\n",
      "CHECKUP1_4.0          0.040372\n",
      "CHECKUP1_7.0          0.011786\n",
      "CHECKUP1_8.0          0.005240\n",
      "SEXVAR_2.0            0.248747\n",
      "CHCCOPD3_1.0          0.071822\n",
      "CHCCOPD3_2.0          0.075848\n",
      "CHCCOPD3_7.0          0.004073\n",
      "HAVARTH5_1.0          0.219349\n",
      "HAVARTH5_2.0          0.221615\n",
      "HAVARTH5_7.0          0.005644\n",
      "DIABETE4_1.0          0.114087\n",
      "DIABETE4_2.0          0.008605\n",
      "DIABETE4_3.0          0.137721\n",
      "DIABETE4_4.0          0.022149\n",
      "DIABETE4_7.0          0.001395\n",
      "_RFHYPE6_1.0          0.239337\n",
      "_RFHYPE6_2.0          0.238418\n",
      "_PHYS14D_1.0          0.225654\n",
      "_PHYS14D_2.0          0.163629\n",
      "_PHYS14D_3.0          0.102712\n",
      "_AGE_G_6.0            0.228903\n",
      "_IMPRACE_1.0          0.183798\n",
      "_IMPRACE_2.0          0.069821\n",
      "_IMPRACE_4.0          0.016606\n",
      "_IMPRACE_5.0          0.080413\n",
      "_IMPRACE_6.0          0.034474\n",
      "_RFBMI5_1.0           0.200534\n",
      "_RFBMI5_2.0           0.236633\n",
      "_SMOKER3_1.0          0.080835\n",
      "_SMOKER3_2.0          0.032852\n",
      "_SMOKER3_3.0          0.191508\n",
      "_SMOKER3_4.0          0.246128\n",
      "_RFDRHV7_1.0          0.116174\n",
      "_RFDRHV7_2.0          0.051456\n",
      "_TOTINDA_1.0          0.185524\n",
      "_TOTINDA_2.0          0.184448\n",
      "CHCKDNY2_1.0          0.037462\n",
      "CHCKDNY2_2.0          0.041250\n",
      "CHCKDNY2_7.0          0.003380\n",
      "_FRTLT1A_1.0          0.248010\n",
      "_FRTLT1A_2.0          0.224060\n",
      "_AGE_GROUP_(25-44)    0.183436\n",
      "_AGE_GROUP_(45-64)    0.225639\n",
      "dtype: float64\n"
     ]
    }
   ],
   "source": [
    "variance_per_variable = df.var()  # Calculate variance for each column\n",
    "\n",
    "print(variance_per_variable)"
   ]
  },
  {
   "cell_type": "markdown",
   "id": "30747118",
   "metadata": {},
   "source": [
    "**Insights**"
   ]
  },
  {
   "cell_type": "markdown",
   "id": "2b7b0d2f",
   "metadata": {},
   "source": [
    "- High Variance Features: Notable features with higher variance include 'TOLDHI3_1.0', 'SEXVAR_2.0', _RFHYPE6_2.0 , '_FRTLT1A_2.0',_AGE_G_6.0 indicating more variability in these aspects within the dataset.\n",
    "\n",
    "- Low Variance Features: Features such as 'CHECKUP1_7.0', 'CHECKUP1_8.0', 'CHCCOPD3_7.0', 'DIABETE4_7.0', 'CHCKDNY2_7.0' have very low variance, suggesting limited variability or potentially constant values, which might not provide much information for analysis.\n",
    "\n",
    "- Potential Multicollinearity: Features like '_RFHYPE6_1.0' and '_RFHYPE6_2.0', '_FRTLT1A_1.0' and '_FRTLT1A_2.0', 'AGE_GROUP(25-44)' and 'AGE_GROUP(45-64)' show quite similar variance values. It might hint at potential multicollinearity issues between these pairs of features."
   ]
  },
  {
   "cell_type": "markdown",
   "id": "a9ccc15b",
   "metadata": {},
   "source": [
    "Now , we will split our data into train and test sets:"
   ]
  },
  {
   "cell_type": "code",
   "execution_count": 14,
   "id": "91c8d953",
   "metadata": {},
   "outputs": [],
   "source": [
    "# X contains all columns except 'Cancer'\n",
    "X = df.drop('Cancer', axis=1)  # Exclude the 'Cancer' column\n",
    "\n",
    "# y contains only the 'Cancer' column\n",
    "y = df['Cancer']\n",
    "\n",
    "# Split the data into training and testing sets\n",
    "X_train, X_test, y_train, y_test = train_test_split(X, y, test_size=0.2, random_state=42, stratify=y)"
   ]
  },
  {
   "cell_type": "code",
   "execution_count": 15,
   "id": "4ad624ef",
   "metadata": {},
   "outputs": [
    {
     "data": {
      "text/html": [
       "<div>\n",
       "<style scoped>\n",
       "    .dataframe tbody tr th:only-of-type {\n",
       "        vertical-align: middle;\n",
       "    }\n",
       "\n",
       "    .dataframe tbody tr th {\n",
       "        vertical-align: top;\n",
       "    }\n",
       "\n",
       "    .dataframe thead th {\n",
       "        text-align: right;\n",
       "    }\n",
       "</style>\n",
       "<table border=\"1\" class=\"dataframe\">\n",
       "  <thead>\n",
       "    <tr style=\"text-align: right;\">\n",
       "      <th></th>\n",
       "      <th>_RFHLTH_1.0</th>\n",
       "      <th>_RFHLTH_2.0</th>\n",
       "      <th>TOLDHI3_1.0</th>\n",
       "      <th>TOLDHI3_2.0</th>\n",
       "      <th>CHECKUP1_1.0</th>\n",
       "      <th>CHECKUP1_2.0</th>\n",
       "      <th>CHECKUP1_3.0</th>\n",
       "      <th>CHECKUP1_4.0</th>\n",
       "      <th>CHECKUP1_7.0</th>\n",
       "      <th>CHECKUP1_8.0</th>\n",
       "      <th>SEXVAR_2.0</th>\n",
       "      <th>CHCCOPD3_1.0</th>\n",
       "      <th>CHCCOPD3_2.0</th>\n",
       "      <th>CHCCOPD3_7.0</th>\n",
       "      <th>HAVARTH5_1.0</th>\n",
       "      <th>HAVARTH5_2.0</th>\n",
       "      <th>HAVARTH5_7.0</th>\n",
       "      <th>DIABETE4_1.0</th>\n",
       "      <th>DIABETE4_2.0</th>\n",
       "      <th>DIABETE4_3.0</th>\n",
       "      <th>DIABETE4_4.0</th>\n",
       "      <th>DIABETE4_7.0</th>\n",
       "      <th>_RFHYPE6_1.0</th>\n",
       "      <th>_RFHYPE6_2.0</th>\n",
       "      <th>_PHYS14D_1.0</th>\n",
       "      <th>_PHYS14D_2.0</th>\n",
       "      <th>_PHYS14D_3.0</th>\n",
       "      <th>_AGE_G_6.0</th>\n",
       "      <th>_IMPRACE_1.0</th>\n",
       "      <th>_IMPRACE_2.0</th>\n",
       "      <th>_IMPRACE_4.0</th>\n",
       "      <th>_IMPRACE_5.0</th>\n",
       "      <th>_IMPRACE_6.0</th>\n",
       "      <th>_RFBMI5_1.0</th>\n",
       "      <th>_RFBMI5_2.0</th>\n",
       "      <th>_SMOKER3_1.0</th>\n",
       "      <th>_SMOKER3_2.0</th>\n",
       "      <th>_SMOKER3_3.0</th>\n",
       "      <th>_SMOKER3_4.0</th>\n",
       "      <th>_RFDRHV7_1.0</th>\n",
       "      <th>_RFDRHV7_2.0</th>\n",
       "      <th>_TOTINDA_1.0</th>\n",
       "      <th>_TOTINDA_2.0</th>\n",
       "      <th>CHCKDNY2_1.0</th>\n",
       "      <th>CHCKDNY2_2.0</th>\n",
       "      <th>CHCKDNY2_7.0</th>\n",
       "      <th>_FRTLT1A_1.0</th>\n",
       "      <th>_FRTLT1A_2.0</th>\n",
       "      <th>_AGE_GROUP_(25-44)</th>\n",
       "      <th>_AGE_GROUP_(45-64)</th>\n",
       "    </tr>\n",
       "  </thead>\n",
       "  <tbody>\n",
       "    <tr>\n",
       "      <th>349094</th>\n",
       "      <td>0</td>\n",
       "      <td>1</td>\n",
       "      <td>1</td>\n",
       "      <td>0</td>\n",
       "      <td>0</td>\n",
       "      <td>0</td>\n",
       "      <td>1</td>\n",
       "      <td>0</td>\n",
       "      <td>0</td>\n",
       "      <td>0</td>\n",
       "      <td>0</td>\n",
       "      <td>0</td>\n",
       "      <td>1</td>\n",
       "      <td>0</td>\n",
       "      <td>0</td>\n",
       "      <td>1</td>\n",
       "      <td>0</td>\n",
       "      <td>0</td>\n",
       "      <td>0</td>\n",
       "      <td>1</td>\n",
       "      <td>0</td>\n",
       "      <td>0</td>\n",
       "      <td>0</td>\n",
       "      <td>1</td>\n",
       "      <td>0</td>\n",
       "      <td>1</td>\n",
       "      <td>0</td>\n",
       "      <td>0</td>\n",
       "      <td>1</td>\n",
       "      <td>0</td>\n",
       "      <td>0</td>\n",
       "      <td>0</td>\n",
       "      <td>0</td>\n",
       "      <td>0</td>\n",
       "      <td>1</td>\n",
       "      <td>0</td>\n",
       "      <td>0</td>\n",
       "      <td>1</td>\n",
       "      <td>0</td>\n",
       "      <td>1</td>\n",
       "      <td>0</td>\n",
       "      <td>1</td>\n",
       "      <td>0</td>\n",
       "      <td>0</td>\n",
       "      <td>1</td>\n",
       "      <td>0</td>\n",
       "      <td>1</td>\n",
       "      <td>0</td>\n",
       "      <td>1</td>\n",
       "      <td>0</td>\n",
       "    </tr>\n",
       "    <tr>\n",
       "      <th>107185</th>\n",
       "      <td>0</td>\n",
       "      <td>1</td>\n",
       "      <td>1</td>\n",
       "      <td>0</td>\n",
       "      <td>1</td>\n",
       "      <td>0</td>\n",
       "      <td>0</td>\n",
       "      <td>0</td>\n",
       "      <td>0</td>\n",
       "      <td>0</td>\n",
       "      <td>1</td>\n",
       "      <td>1</td>\n",
       "      <td>0</td>\n",
       "      <td>0</td>\n",
       "      <td>1</td>\n",
       "      <td>0</td>\n",
       "      <td>0</td>\n",
       "      <td>1</td>\n",
       "      <td>0</td>\n",
       "      <td>0</td>\n",
       "      <td>0</td>\n",
       "      <td>0</td>\n",
       "      <td>0</td>\n",
       "      <td>1</td>\n",
       "      <td>0</td>\n",
       "      <td>1</td>\n",
       "      <td>0</td>\n",
       "      <td>1</td>\n",
       "      <td>1</td>\n",
       "      <td>0</td>\n",
       "      <td>0</td>\n",
       "      <td>0</td>\n",
       "      <td>0</td>\n",
       "      <td>0</td>\n",
       "      <td>1</td>\n",
       "      <td>0</td>\n",
       "      <td>0</td>\n",
       "      <td>1</td>\n",
       "      <td>0</td>\n",
       "      <td>1</td>\n",
       "      <td>0</td>\n",
       "      <td>0</td>\n",
       "      <td>1</td>\n",
       "      <td>0</td>\n",
       "      <td>1</td>\n",
       "      <td>0</td>\n",
       "      <td>1</td>\n",
       "      <td>0</td>\n",
       "      <td>0</td>\n",
       "      <td>0</td>\n",
       "    </tr>\n",
       "    <tr>\n",
       "      <th>80304</th>\n",
       "      <td>1</td>\n",
       "      <td>0</td>\n",
       "      <td>0</td>\n",
       "      <td>1</td>\n",
       "      <td>1</td>\n",
       "      <td>0</td>\n",
       "      <td>0</td>\n",
       "      <td>0</td>\n",
       "      <td>0</td>\n",
       "      <td>0</td>\n",
       "      <td>1</td>\n",
       "      <td>0</td>\n",
       "      <td>1</td>\n",
       "      <td>0</td>\n",
       "      <td>0</td>\n",
       "      <td>1</td>\n",
       "      <td>0</td>\n",
       "      <td>0</td>\n",
       "      <td>0</td>\n",
       "      <td>1</td>\n",
       "      <td>0</td>\n",
       "      <td>0</td>\n",
       "      <td>1</td>\n",
       "      <td>0</td>\n",
       "      <td>1</td>\n",
       "      <td>0</td>\n",
       "      <td>0</td>\n",
       "      <td>0</td>\n",
       "      <td>1</td>\n",
       "      <td>0</td>\n",
       "      <td>0</td>\n",
       "      <td>0</td>\n",
       "      <td>0</td>\n",
       "      <td>0</td>\n",
       "      <td>1</td>\n",
       "      <td>0</td>\n",
       "      <td>0</td>\n",
       "      <td>0</td>\n",
       "      <td>1</td>\n",
       "      <td>1</td>\n",
       "      <td>0</td>\n",
       "      <td>1</td>\n",
       "      <td>0</td>\n",
       "      <td>0</td>\n",
       "      <td>1</td>\n",
       "      <td>0</td>\n",
       "      <td>1</td>\n",
       "      <td>0</td>\n",
       "      <td>0</td>\n",
       "      <td>1</td>\n",
       "    </tr>\n",
       "    <tr>\n",
       "      <th>105450</th>\n",
       "      <td>1</td>\n",
       "      <td>0</td>\n",
       "      <td>0</td>\n",
       "      <td>1</td>\n",
       "      <td>1</td>\n",
       "      <td>0</td>\n",
       "      <td>0</td>\n",
       "      <td>0</td>\n",
       "      <td>0</td>\n",
       "      <td>0</td>\n",
       "      <td>0</td>\n",
       "      <td>0</td>\n",
       "      <td>1</td>\n",
       "      <td>0</td>\n",
       "      <td>0</td>\n",
       "      <td>1</td>\n",
       "      <td>0</td>\n",
       "      <td>0</td>\n",
       "      <td>0</td>\n",
       "      <td>1</td>\n",
       "      <td>0</td>\n",
       "      <td>0</td>\n",
       "      <td>1</td>\n",
       "      <td>0</td>\n",
       "      <td>1</td>\n",
       "      <td>0</td>\n",
       "      <td>0</td>\n",
       "      <td>0</td>\n",
       "      <td>1</td>\n",
       "      <td>0</td>\n",
       "      <td>0</td>\n",
       "      <td>0</td>\n",
       "      <td>0</td>\n",
       "      <td>0</td>\n",
       "      <td>1</td>\n",
       "      <td>0</td>\n",
       "      <td>0</td>\n",
       "      <td>0</td>\n",
       "      <td>1</td>\n",
       "      <td>1</td>\n",
       "      <td>0</td>\n",
       "      <td>1</td>\n",
       "      <td>0</td>\n",
       "      <td>0</td>\n",
       "      <td>1</td>\n",
       "      <td>0</td>\n",
       "      <td>1</td>\n",
       "      <td>0</td>\n",
       "      <td>0</td>\n",
       "      <td>1</td>\n",
       "    </tr>\n",
       "    <tr>\n",
       "      <th>30444</th>\n",
       "      <td>1</td>\n",
       "      <td>0</td>\n",
       "      <td>0</td>\n",
       "      <td>1</td>\n",
       "      <td>0</td>\n",
       "      <td>1</td>\n",
       "      <td>0</td>\n",
       "      <td>0</td>\n",
       "      <td>0</td>\n",
       "      <td>0</td>\n",
       "      <td>1</td>\n",
       "      <td>0</td>\n",
       "      <td>1</td>\n",
       "      <td>0</td>\n",
       "      <td>0</td>\n",
       "      <td>1</td>\n",
       "      <td>0</td>\n",
       "      <td>0</td>\n",
       "      <td>0</td>\n",
       "      <td>1</td>\n",
       "      <td>0</td>\n",
       "      <td>0</td>\n",
       "      <td>1</td>\n",
       "      <td>0</td>\n",
       "      <td>0</td>\n",
       "      <td>0</td>\n",
       "      <td>1</td>\n",
       "      <td>0</td>\n",
       "      <td>1</td>\n",
       "      <td>0</td>\n",
       "      <td>0</td>\n",
       "      <td>0</td>\n",
       "      <td>0</td>\n",
       "      <td>0</td>\n",
       "      <td>1</td>\n",
       "      <td>1</td>\n",
       "      <td>0</td>\n",
       "      <td>0</td>\n",
       "      <td>0</td>\n",
       "      <td>0</td>\n",
       "      <td>1</td>\n",
       "      <td>1</td>\n",
       "      <td>0</td>\n",
       "      <td>0</td>\n",
       "      <td>1</td>\n",
       "      <td>0</td>\n",
       "      <td>1</td>\n",
       "      <td>0</td>\n",
       "      <td>1</td>\n",
       "      <td>0</td>\n",
       "    </tr>\n",
       "  </tbody>\n",
       "</table>\n",
       "</div>"
      ],
      "text/plain": [
       "        _RFHLTH_1.0  _RFHLTH_2.0  TOLDHI3_1.0  TOLDHI3_2.0  CHECKUP1_1.0  \\\n",
       "349094            0            1            1            0             0   \n",
       "107185            0            1            1            0             1   \n",
       "80304             1            0            0            1             1   \n",
       "105450            1            0            0            1             1   \n",
       "30444             1            0            0            1             0   \n",
       "\n",
       "        CHECKUP1_2.0  CHECKUP1_3.0  CHECKUP1_4.0  CHECKUP1_7.0  CHECKUP1_8.0  \\\n",
       "349094             0             1             0             0             0   \n",
       "107185             0             0             0             0             0   \n",
       "80304              0             0             0             0             0   \n",
       "105450             0             0             0             0             0   \n",
       "30444              1             0             0             0             0   \n",
       "\n",
       "        SEXVAR_2.0  CHCCOPD3_1.0  CHCCOPD3_2.0  CHCCOPD3_7.0  HAVARTH5_1.0  \\\n",
       "349094           0             0             1             0             0   \n",
       "107185           1             1             0             0             1   \n",
       "80304            1             0             1             0             0   \n",
       "105450           0             0             1             0             0   \n",
       "30444            1             0             1             0             0   \n",
       "\n",
       "        HAVARTH5_2.0  HAVARTH5_7.0  DIABETE4_1.0  DIABETE4_2.0  DIABETE4_3.0  \\\n",
       "349094             1             0             0             0             1   \n",
       "107185             0             0             1             0             0   \n",
       "80304              1             0             0             0             1   \n",
       "105450             1             0             0             0             1   \n",
       "30444              1             0             0             0             1   \n",
       "\n",
       "        DIABETE4_4.0  DIABETE4_7.0  _RFHYPE6_1.0  _RFHYPE6_2.0  _PHYS14D_1.0  \\\n",
       "349094             0             0             0             1             0   \n",
       "107185             0             0             0             1             0   \n",
       "80304              0             0             1             0             1   \n",
       "105450             0             0             1             0             1   \n",
       "30444              0             0             1             0             0   \n",
       "\n",
       "        _PHYS14D_2.0  _PHYS14D_3.0  _AGE_G_6.0  _IMPRACE_1.0  _IMPRACE_2.0  \\\n",
       "349094             1             0           0             1             0   \n",
       "107185             1             0           1             1             0   \n",
       "80304              0             0           0             1             0   \n",
       "105450             0             0           0             1             0   \n",
       "30444              0             1           0             1             0   \n",
       "\n",
       "        _IMPRACE_4.0  _IMPRACE_5.0  _IMPRACE_6.0  _RFBMI5_1.0  _RFBMI5_2.0  \\\n",
       "349094             0             0             0            0            1   \n",
       "107185             0             0             0            0            1   \n",
       "80304              0             0             0            0            1   \n",
       "105450             0             0             0            0            1   \n",
       "30444              0             0             0            0            1   \n",
       "\n",
       "        _SMOKER3_1.0  _SMOKER3_2.0  _SMOKER3_3.0  _SMOKER3_4.0  _RFDRHV7_1.0  \\\n",
       "349094             0             0             1             0             1   \n",
       "107185             0             0             1             0             1   \n",
       "80304              0             0             0             1             1   \n",
       "105450             0             0             0             1             1   \n",
       "30444              1             0             0             0             0   \n",
       "\n",
       "        _RFDRHV7_2.0  _TOTINDA_1.0  _TOTINDA_2.0  CHCKDNY2_1.0  CHCKDNY2_2.0  \\\n",
       "349094             0             1             0             0             1   \n",
       "107185             0             0             1             0             1   \n",
       "80304              0             1             0             0             1   \n",
       "105450             0             1             0             0             1   \n",
       "30444              1             1             0             0             1   \n",
       "\n",
       "        CHCKDNY2_7.0  _FRTLT1A_1.0  _FRTLT1A_2.0  _AGE_GROUP_(25-44)  \\\n",
       "349094             0             1             0                   1   \n",
       "107185             0             1             0                   0   \n",
       "80304              0             1             0                   0   \n",
       "105450             0             1             0                   0   \n",
       "30444              0             1             0                   1   \n",
       "\n",
       "        _AGE_GROUP_(45-64)  \n",
       "349094                   0  \n",
       "107185                   0  \n",
       "80304                    1  \n",
       "105450                   1  \n",
       "30444                    0  "
      ]
     },
     "execution_count": 15,
     "metadata": {},
     "output_type": "execute_result"
    }
   ],
   "source": [
    "#sanity check of the X_train dataset\n",
    "X_train.head()"
   ]
  },
  {
   "cell_type": "markdown",
   "id": "71afe736",
   "metadata": {},
   "source": [
    "From our EDA , we found that the variables '_RFBMI5_1.0' and 'DIABETE4_7.0' are not statistically significant (p_value > 0.05), so we will drop them. "
   ]
  },
  {
   "cell_type": "code",
   "execution_count": 16,
   "id": "92401ed0",
   "metadata": {},
   "outputs": [],
   "source": [
    "columns_to_drop = ['_RFBMI5_1.0', 'DIABETE4_7.0']\n",
    "\n",
    "X_train = X_train.drop(columns=columns_to_drop)\n",
    "X_test = X_test.drop(columns=columns_to_drop)"
   ]
  },
  {
   "cell_type": "markdown",
   "id": "77b44fd4",
   "metadata": {},
   "source": [
    "We wil apply PCA on our dataset to test it's effect on different models :"
   ]
  },
  {
   "cell_type": "code",
   "execution_count": 17,
   "id": "acb598f1",
   "metadata": {},
   "outputs": [],
   "source": [
    "# Apply PCA on your dataset\n",
    "pca = PCA(n_components=0.90)  \n",
    "X_train_pca = pca.fit_transform(X_train)\n",
    "X_test_pca = pca.transform(X_test)"
   ]
  },
  {
   "cell_type": "markdown",
   "id": "3ba3b0f2",
   "metadata": {},
   "source": [
    "## Part 3: Baseline Modeling<a id=\"Baseline-Modeling\"></a>"
   ]
  },
  {
   "cell_type": "markdown",
   "id": "2d52c75b",
   "metadata": {},
   "source": [
    "In this phase, we'll train various models on both the original and PCA-transformed datasets to assess potential differences in performance. Additionally, we'll utilize the class_weight=\"balanced\" parameter to address the imbalance in the dataset."
   ]
  },
  {
   "cell_type": "markdown",
   "id": "566fdc39",
   "metadata": {},
   "source": [
    "### Model 3.1 : Logestic Regression Model<a id=\"Logestic-Regression-Model\"></a>"
   ]
  },
  {
   "cell_type": "markdown",
   "id": "73e6876f",
   "metadata": {},
   "source": [
    "We will fit a logestic regression model on the PCA-transformed dataset:"
   ]
  },
  {
   "cell_type": "code",
   "execution_count": 125,
   "id": "dbda851d",
   "metadata": {},
   "outputs": [
    {
     "name": "stdout",
     "output_type": "stream",
     "text": [
      "Accuracy with PCA for train: 0.6542347671476442\n",
      "Accuracy with PCA for test: 0.6529211972007568\n"
     ]
    }
   ],
   "source": [
    "logreg_pca = LogisticRegression(max_iter=1000, random_state=42,class_weight=\"balanced\")\n",
    "logreg_pca.fit(X_train_pca, y_train)\n",
    "\n",
    "# Calculate accuracy with PCA using .score() on transformed data\n",
    "accuracy_with_pca_train = logreg_pca.score(X_train_pca, y_train)\n",
    "accuracy_with_pca = logreg_pca.score(X_test_pca, y_test)\n",
    "\n",
    "print(f\"Accuracy with PCA for train: {accuracy_with_pca_train}\")\n",
    "print(f\"Accuracy with PCA for test: {accuracy_with_pca}\")"
   ]
  },
  {
   "cell_type": "markdown",
   "id": "60404ff2",
   "metadata": {},
   "source": [
    "Now , we will try to fit another model on the original dataset:"
   ]
  },
  {
   "cell_type": "code",
   "execution_count": 131,
   "id": "c0ea89dc",
   "metadata": {},
   "outputs": [
    {
     "name": "stdout",
     "output_type": "stream",
     "text": [
      "Accuracy without PCA for train:0.6502940573069822\n",
      "Accuracy without PCA for test: 0.6489092525473569\n"
     ]
    }
   ],
   "source": [
    "# Train a model without PCA\n",
    "logreg_without_pca = LogisticRegression(max_iter=1000,random_state=42,class_weight=\"balanced\")\n",
    "logreg_without_pca.fit(X_train, y_train)\n",
    "\n",
    "# Calculate accuracy without PCA using .score()\n",
    "accuracy_without_pca_for_train= model_without_pca.score(X_train, y_train)\n",
    "accuracy_without_pca = model_without_pca.score(X_test, y_test)\n",
    "print(f\"Accuracy without PCA for train:{accuracy_without_pca_for_train}\")\n",
    "print(f\"Accuracy without PCA for test: {accuracy_without_pca}\")"
   ]
  },
  {
   "cell_type": "markdown",
   "id": "5e106f1d",
   "metadata": {},
   "source": [
    "Both models have reasonably close scores, but the PCA-processed data showcases a slightly better performance on the test set, indicating that the model built on the PCA-transformed data might generalize a bit better to unseen data. This suggests that the reduction in feature dimensions achieved by PCA hasn't significantly compromised the model's predictive capabilities, and it's managing to capture the underlying patterns in the data."
   ]
  },
  {
   "cell_type": "markdown",
   "id": "d1a2fb28",
   "metadata": {},
   "source": [
    "We will use a GridSearchCV, to find the best 'C' parameter as the following for model with original dataset :"
   ]
  },
  {
   "cell_type": "code",
   "execution_count": 53,
   "id": "d7e3fa40",
   "metadata": {},
   "outputs": [
    {
     "name": "stdout",
     "output_type": "stream",
     "text": [
      "Best Parameters: {'C': 0.01, 'penalty': 'l2', 'solver': 'liblinear'}\n"
     ]
    }
   ],
   "source": [
    "# Define your logistic regression model\n",
    "logreg = LogisticRegression(max_iter=1000,random_state=42)\n",
    "\n",
    "# Define the hyperparameter grid\n",
    "param_grid = {\n",
    "    'C': [0.001, 0.01, 0.1, 1, 10, 100],  # Regularization parameter\n",
    "    'penalty': ['l1', 'l2'],  # Regularization type\n",
    "    'solver': ['liblinear', 'saga']\n",
    "}\n",
    "\n",
    "# Define the cross-validation strategy\n",
    "cv = StratifiedKFold(n_splits=5, shuffle=True, random_state=42)\n",
    "\n",
    "# Create GridSearchCV\n",
    "grid_search = GridSearchCV(logreg, param_grid, cv=cv, scoring='recall')\n",
    "\n",
    "# Fit the GridSearchCV instance on your training data\n",
    "grid_search.fit(X_train, y_train)\n",
    "\n",
    "# Get the best parameters and best score\n",
    "print(\"Best Parameters:\", grid_search.best_params_)"
   ]
  },
  {
   "cell_type": "markdown",
   "id": "4c3a3dc3",
   "metadata": {},
   "source": [
    "Now , we will check if we get different parameters for a model with PCA-transformed dataset:"
   ]
  },
  {
   "cell_type": "code",
   "execution_count": 134,
   "id": "b861172e",
   "metadata": {},
   "outputs": [
    {
     "name": "stdout",
     "output_type": "stream",
     "text": [
      "Best Parameters: {'C': 0.001, 'penalty': 'l1', 'solver': 'liblinear'}\n"
     ]
    }
   ],
   "source": [
    "# Define your logistic regression model\n",
    "logreg_pca = LogisticRegression(max_iter=1000,random_state=42)\n",
    "\n",
    "# Define the hyperparameter grid\n",
    "param_grid = {\n",
    "    'C': [0.001, 0.01, 0.1, 1, 10, 100],  # Regularization parameter\n",
    "    'penalty': ['l1', 'l2'],  # Regularization type\n",
    "    'solver': ['liblinear', 'saga']\n",
    "}\n",
    "\n",
    "# Define the cross-validation strategy\n",
    "cv = StratifiedKFold(n_splits=5, shuffle=True, random_state=42)\n",
    "\n",
    "# Create GridSearchCV\n",
    "grid_search = GridSearchCV(logreg_pca, param_grid, cv=cv, scoring='recall')\n",
    "\n",
    "# Fit the GridSearchCV instance on your training data\n",
    "grid_search.fit(X_train_pca, y_train)\n",
    "\n",
    "# Get the best parameters and best score\n",
    "print(\"Best Parameters:\", grid_search.best_params_)"
   ]
  },
  {
   "cell_type": "markdown",
   "id": "1d027d57",
   "metadata": {},
   "source": [
    "We will add the best parameters to the model with original dataset:"
   ]
  },
  {
   "cell_type": "code",
   "execution_count": 55,
   "id": "85bba32a",
   "metadata": {},
   "outputs": [
    {
     "name": "stdout",
     "output_type": "stream",
     "text": [
      "Accuracy without PCA for train:0.6502370694567918\n",
      "Accuracy without PCA for test: 0.6492169869383847\n"
     ]
    }
   ],
   "source": [
    "# Train a model without PCA\n",
    "logreg_without_pca = LogisticRegression(max_iter=1000, C= 0.01, penalty='l2' ,solver='liblinear',class_weight=\"balanced\", random_state=42)\n",
    "logreg_without_pca.fit(X_train, y_train)\n",
    "\n",
    "# Calculate accuracy without PCA using .score()\n",
    "accuracy_without_pca_for_train= logreg_without_pca.score(X_train, y_train)\n",
    "accuracy_without_pca = logreg_without_pca.score(X_test, y_test)\n",
    "print(f\"Accuracy without PCA for train:{accuracy_without_pca_for_train}\")\n",
    "print(f\"Accuracy without PCA for test: {accuracy_without_pca}\")"
   ]
  },
  {
   "cell_type": "markdown",
   "id": "5ebc1c7d",
   "metadata": {},
   "source": [
    "Now , we will calculate the recall for train and test for logreg_without_pca :"
   ]
  },
  {
   "cell_type": "code",
   "execution_count": 57,
   "id": "6ec1c3d6",
   "metadata": {},
   "outputs": [
    {
     "name": "stdout",
     "output_type": "stream",
     "text": [
      "Recall on Training Set: 0.7562501844800614\n",
      "Recall on Test Set: 0.7473435655253837\n"
     ]
    }
   ],
   "source": [
    "# Predictions on training data\n",
    "train_predictions = logreg_without_pca.predict(X_train)\n",
    "\n",
    "# Predictions on test data\n",
    "test_predictions = logreg_without_pca.predict(X_test)\n",
    "\n",
    "# Calculate recall on training data\n",
    "train_recall = recall_score(y_train, train_predictions)\n",
    "\n",
    "# Calculate recall on test data\n",
    "test_recall = recall_score(y_test, test_predictions)\n",
    "\n",
    "print(\"Recall on Training Set:\", train_recall)\n",
    "print(\"Recall on Test Set:\", test_recall)"
   ]
  },
  {
   "cell_type": "markdown",
   "id": "999957b9",
   "metadata": {},
   "source": [
    "These recall scores suggest that the model performs consistently well on both the training and test datasets.A recall score of approximately 0.76 on the training set indicates that the model correctly identifies around 76% of the positive cases among all actual positive cases in the training data. Similarly, a test set recall of approximately 0.75 suggests that the model maintains its performance on new, unseen data, correctly identifying approximately 75% of positive cases among all actual positive cases in the test data."
   ]
  },
  {
   "cell_type": "markdown",
   "id": "b56a1e7a",
   "metadata": {},
   "source": [
    "We will add the best parameters to the model with PCA-transformed dataset:"
   ]
  },
  {
   "cell_type": "code",
   "execution_count": 59,
   "id": "4ded8b7a",
   "metadata": {},
   "outputs": [
    {
     "name": "stdout",
     "output_type": "stream",
     "text": [
      "Accuracy with PCA for train: 0.6572978640953748\n",
      "Accuracy with PCA for test: 0.6550867355079897\n"
     ]
    }
   ],
   "source": [
    "logreg_pca = LogisticRegression(max_iter=1000, C= 0.001, penalty='l1' ,solver='liblinear',class_weight=\"balanced\", random_state=42)\n",
    "logreg_pca.fit(X_train_pca, y_train)\n",
    "\n",
    "# Calculate accuracy with PCA using .score() on transformed data\n",
    "accuracy_with_pca_train = logreg_pca.score(X_train_pca, y_train)\n",
    "accuracy_with_pca = logreg_pca.score(X_test_pca, y_test)\n",
    "\n",
    "print(f\"Accuracy with PCA for train: {accuracy_with_pca_train}\")\n",
    "print(f\"Accuracy with PCA for test: {accuracy_with_pca}\")"
   ]
  },
  {
   "cell_type": "markdown",
   "id": "c374c3be",
   "metadata": {},
   "source": [
    "The training and test accuracies are quite close to each other, indicating that the model is performing consistently across the training and test datasets. This similarity suggests that the model isn't suffering from significant overfitting or underfitting. With a training accuracy of 0.6572978640953748 and a test accuracy of 0.6550867355079897, the model's performance demonstrates stability across both datasets."
   ]
  },
  {
   "cell_type": "markdown",
   "id": "01bcdc66",
   "metadata": {},
   "source": [
    "Overall , using different hyperparamters in both models, the model with PCA consistently demonstrates a marginally higher accuracy for both the training and test datasets. "
   ]
  },
  {
   "cell_type": "markdown",
   "id": "ef07d56e",
   "metadata": {},
   "source": [
    "We will calculate the recall for train and test sets for logreg_pca:"
   ]
  },
  {
   "cell_type": "code",
   "execution_count": 60,
   "id": "fb032519",
   "metadata": {},
   "outputs": [
    {
     "name": "stdout",
     "output_type": "stream",
     "text": [
      "Recall on Training Set: 0.737507010242333\n",
      "Recall on Test Set: 0.7265643447461629\n"
     ]
    }
   ],
   "source": [
    "# Predictions on training data\n",
    "train_predictions = logreg_pca.predict(X_train_pca)\n",
    "\n",
    "# Predictions on test data\n",
    "test_predictions = logreg_pca.predict(X_test_pca)\n",
    "\n",
    "# Calculate recall on training data\n",
    "train_recall = recall_score(y_train, train_predictions)\n",
    "\n",
    "# Calculate recall on test data\n",
    "test_recall = recall_score(y_test, test_predictions)\n",
    "\n",
    "print(\"Recall on Training Set:\", train_recall)\n",
    "print(\"Recall on Test Set:\", test_recall)"
   ]
  },
  {
   "cell_type": "markdown",
   "id": "49701d5a",
   "metadata": {},
   "source": [
    "A recall score of approximately 0.74 on the training set means that the model correctly identifies about 74% of the positive cases among all actual positive cases in the training data.With a test set recall of approximately 0.73, the model maintains a good ability to identify positive cases among all actual positive cases in the test data, albeit slightly lower than the performance on the training data."
   ]
  },
  {
   "cell_type": "markdown",
   "id": "dc6f467c",
   "metadata": {},
   "source": [
    "Both models showcase comparable performance, with the first one having slightly higher recall scores and showing a slightly smaller gap between training and test performances. However, the difference between these two sets of scores is relatively small. For this reason , both models seem to generalize well to unseen data, showing robustness and reliability in identifying positive cases."
   ]
  },
  {
   "cell_type": "markdown",
   "id": "5b2eb108",
   "metadata": {},
   "source": [
    "**Logestic Regression Model Evaluation:**"
   ]
  },
  {
   "cell_type": "markdown",
   "id": "9c8ec7de",
   "metadata": {},
   "source": [
    "Now, we will do model evaluation for logreg_without_pca:"
   ]
  },
  {
   "cell_type": "code",
   "execution_count": 135,
   "id": "34280005",
   "metadata": {},
   "outputs": [
    {
     "data": {
      "text/html": [
       "<div>\n",
       "<style scoped>\n",
       "    .dataframe tbody tr th:only-of-type {\n",
       "        vertical-align: middle;\n",
       "    }\n",
       "\n",
       "    .dataframe tbody tr th {\n",
       "        vertical-align: top;\n",
       "    }\n",
       "\n",
       "    .dataframe thead th {\n",
       "        text-align: right;\n",
       "    }\n",
       "</style>\n",
       "<table border=\"1\" class=\"dataframe\">\n",
       "  <thead>\n",
       "    <tr style=\"text-align: right;\">\n",
       "      <th></th>\n",
       "      <th>predicted class</th>\n",
       "    </tr>\n",
       "  </thead>\n",
       "  <tbody>\n",
       "    <tr>\n",
       "      <th>0</th>\n",
       "      <td>0</td>\n",
       "    </tr>\n",
       "    <tr>\n",
       "      <th>1</th>\n",
       "      <td>0</td>\n",
       "    </tr>\n",
       "    <tr>\n",
       "      <th>2</th>\n",
       "      <td>0</td>\n",
       "    </tr>\n",
       "    <tr>\n",
       "      <th>3</th>\n",
       "      <td>0</td>\n",
       "    </tr>\n",
       "    <tr>\n",
       "      <th>4</th>\n",
       "      <td>1</td>\n",
       "    </tr>\n",
       "    <tr>\n",
       "      <th>...</th>\n",
       "      <td>...</td>\n",
       "    </tr>\n",
       "    <tr>\n",
       "      <th>87733</th>\n",
       "      <td>0</td>\n",
       "    </tr>\n",
       "    <tr>\n",
       "      <th>87734</th>\n",
       "      <td>0</td>\n",
       "    </tr>\n",
       "    <tr>\n",
       "      <th>87735</th>\n",
       "      <td>1</td>\n",
       "    </tr>\n",
       "    <tr>\n",
       "      <th>87736</th>\n",
       "      <td>0</td>\n",
       "    </tr>\n",
       "    <tr>\n",
       "      <th>87737</th>\n",
       "      <td>0</td>\n",
       "    </tr>\n",
       "  </tbody>\n",
       "</table>\n",
       "<p>87738 rows × 1 columns</p>\n",
       "</div>"
      ],
      "text/plain": [
       "       predicted class\n",
       "0                    0\n",
       "1                    0\n",
       "2                    0\n",
       "3                    0\n",
       "4                    1\n",
       "...                ...\n",
       "87733                0\n",
       "87734                0\n",
       "87735                1\n",
       "87736                0\n",
       "87737                0\n",
       "\n",
       "[87738 rows x 1 columns]"
      ]
     },
     "execution_count": 135,
     "metadata": {},
     "output_type": "execute_result"
    }
   ],
   "source": [
    "# Classify the test set\n",
    "y_pred = logreg_without_pca.predict(X_test)\n",
    "\n",
    "# Put into a dataframe and check\n",
    "class_df = pd.DataFrame(y_pred, columns=['predicted class'])\n",
    "class_df"
   ]
  },
  {
   "cell_type": "markdown",
   "id": "7299de1e",
   "metadata": {},
   "source": [
    "Each row corresponds to a data point from our test set, and the 'predicted class' column contains the model's prediction for the sentiment class (0 or 1) for that specific data point."
   ]
  },
  {
   "cell_type": "markdown",
   "id": "b411431b",
   "metadata": {},
   "source": [
    "To observe the distribution of the predicted classes within our dataset:"
   ]
  },
  {
   "cell_type": "code",
   "execution_count": 136,
   "id": "12ac296f",
   "metadata": {},
   "outputs": [
    {
     "name": "stdout",
     "output_type": "stream",
     "text": [
      "0    52517\n",
      "1    35221\n",
      "Name: count, dtype: int64\n"
     ]
    }
   ],
   "source": [
    "# Assuming y_pred is our NumPy array\n",
    "y_pred_series = pd.Series(y_pred)\n",
    "value_counts = y_pred_series.value_counts()\n",
    "print(value_counts)"
   ]
  },
  {
   "cell_type": "markdown",
   "id": "c6977a89",
   "metadata": {},
   "source": [
    "To observe the probabilities of classes 0 and 1 for different points in a dataframe :"
   ]
  },
  {
   "cell_type": "code",
   "execution_count": 138,
   "id": "fdffe9c0",
   "metadata": {},
   "outputs": [
    {
     "data": {
      "text/plain": [
       "array([[0.61859389, 0.38140611],\n",
       "       [0.8039267 , 0.1960733 ],\n",
       "       [0.63815292, 0.36184708],\n",
       "       ...,\n",
       "       [0.48715535, 0.51284465],\n",
       "       [0.80759608, 0.19240392],\n",
       "       [0.70531871, 0.29468129]])"
      ]
     },
     "execution_count": 138,
     "metadata": {},
     "output_type": "execute_result"
    }
   ],
   "source": [
    "# Get probabilities using the test set\n",
    "probabilities = logreg_without_pca.predict_proba(X_test)\n",
    "\n",
    "# Check\n",
    "probabilities"
   ]
  },
  {
   "cell_type": "code",
   "execution_count": 139,
   "id": "1206470a",
   "metadata": {},
   "outputs": [
    {
     "data": {
      "text/html": [
       "<div>\n",
       "<style scoped>\n",
       "    .dataframe tbody tr th:only-of-type {\n",
       "        vertical-align: middle;\n",
       "    }\n",
       "\n",
       "    .dataframe tbody tr th {\n",
       "        vertical-align: top;\n",
       "    }\n",
       "\n",
       "    .dataframe thead th {\n",
       "        text-align: right;\n",
       "    }\n",
       "</style>\n",
       "<table border=\"1\" class=\"dataframe\">\n",
       "  <thead>\n",
       "    <tr style=\"text-align: right;\">\n",
       "      <th></th>\n",
       "      <th>probability of being class 0</th>\n",
       "      <th>probability of being class 1</th>\n",
       "    </tr>\n",
       "  </thead>\n",
       "  <tbody>\n",
       "    <tr>\n",
       "      <th>0</th>\n",
       "      <td>0.6186</td>\n",
       "      <td>0.3814</td>\n",
       "    </tr>\n",
       "    <tr>\n",
       "      <th>1</th>\n",
       "      <td>0.8039</td>\n",
       "      <td>0.1961</td>\n",
       "    </tr>\n",
       "    <tr>\n",
       "      <th>2</th>\n",
       "      <td>0.6382</td>\n",
       "      <td>0.3618</td>\n",
       "    </tr>\n",
       "    <tr>\n",
       "      <th>3</th>\n",
       "      <td>0.6518</td>\n",
       "      <td>0.3482</td>\n",
       "    </tr>\n",
       "    <tr>\n",
       "      <th>4</th>\n",
       "      <td>0.3813</td>\n",
       "      <td>0.6187</td>\n",
       "    </tr>\n",
       "    <tr>\n",
       "      <th>...</th>\n",
       "      <td>...</td>\n",
       "      <td>...</td>\n",
       "    </tr>\n",
       "    <tr>\n",
       "      <th>87733</th>\n",
       "      <td>0.5481</td>\n",
       "      <td>0.4519</td>\n",
       "    </tr>\n",
       "    <tr>\n",
       "      <th>87734</th>\n",
       "      <td>0.5502</td>\n",
       "      <td>0.4498</td>\n",
       "    </tr>\n",
       "    <tr>\n",
       "      <th>87735</th>\n",
       "      <td>0.4872</td>\n",
       "      <td>0.5128</td>\n",
       "    </tr>\n",
       "    <tr>\n",
       "      <th>87736</th>\n",
       "      <td>0.8076</td>\n",
       "      <td>0.1924</td>\n",
       "    </tr>\n",
       "    <tr>\n",
       "      <th>87737</th>\n",
       "      <td>0.7053</td>\n",
       "      <td>0.2947</td>\n",
       "    </tr>\n",
       "  </tbody>\n",
       "</table>\n",
       "<p>87738 rows × 2 columns</p>\n",
       "</div>"
      ],
      "text/plain": [
       "       probability of being class 0  probability of being class 1\n",
       "0                            0.6186                        0.3814\n",
       "1                            0.8039                        0.1961\n",
       "2                            0.6382                        0.3618\n",
       "3                            0.6518                        0.3482\n",
       "4                            0.3813                        0.6187\n",
       "...                             ...                           ...\n",
       "87733                        0.5481                        0.4519\n",
       "87734                        0.5502                        0.4498\n",
       "87735                        0.4872                        0.5128\n",
       "87736                        0.8076                        0.1924\n",
       "87737                        0.7053                        0.2947\n",
       "\n",
       "[87738 rows x 2 columns]"
      ]
     },
     "execution_count": 139,
     "metadata": {},
     "output_type": "execute_result"
    }
   ],
   "source": [
    "# note rounded probabilities\n",
    "prob_df = pd.DataFrame(np.round(probabilities,4), columns=['probability of being class 0', 'probability of being class 1'])\n",
    "prob_df"
   ]
  },
  {
   "cell_type": "markdown",
   "id": "557a54f6",
   "metadata": {},
   "source": [
    "The probabilities generated by a logistic regression model represent its confidence in assigning each data point to a specific class. In binary classification, where there are two classes (0 and 1), these probabilities determine the likelihood of a data point belonging to each class. This mean that data points with a probability higher than 0.5 for class 1 will be predicted as class 1.Conversely, if the probability for class 1 is lower than 0.5, the prediction will be class 0"
   ]
  },
  {
   "cell_type": "markdown",
   "id": "2d43e0ce",
   "metadata": {},
   "source": [
    "Now , We will make a confusion matrix to examine how the data points were classified."
   ]
  },
  {
   "cell_type": "code",
   "execution_count": 141,
   "id": "59aa9bad",
   "metadata": {},
   "outputs": [
    {
     "name": "stdout",
     "output_type": "stream",
     "text": [
      "                Predicted 0  Predicted 1  Sum of Predictions\n",
      "Actual 0              50384        28884               79268\n",
      "Actual 1               2133         6337                8470\n",
      "Sum of Actuals        52517        35221               87738\n"
     ]
    }
   ],
   "source": [
    "from sklearn.metrics import confusion_matrix\n",
    "\n",
    "\n",
    "# Construct the confusion matrix\n",
    "conf_matrix = confusion_matrix(y_test, y_pred)\n",
    "\n",
    "# Add totals for rows and columns\n",
    "conf_df = pd.DataFrame(conf_matrix, columns=['Predicted 0', 'Predicted 1'], index=['Actual 0', 'Actual 1'])\n",
    "conf_df.loc['Sum of Actuals'] = conf_df.sum()\n",
    "conf_df['Sum of Predictions'] = conf_df.sum(axis=1)\n",
    "\n",
    "# Display the confusion matrix\n",
    "print(conf_df)"
   ]
  },
  {
   "cell_type": "markdown",
   "id": "86ff7fb6",
   "metadata": {},
   "source": [
    "The model seems to perform well at predicting class 0 (negative class) since the count of true negatives is high.\n",
    "However, it struggles with class 1 (positive class), as indicated by the relatively low count of true positives and higher counts of false negatives. For this reason , to improve its performance for the positive class by reducing false negatives and increasing true positives , we will test different thresholds."
   ]
  },
  {
   "cell_type": "markdown",
   "id": "4121fa4f",
   "metadata": {},
   "source": [
    "Now , we will check precision and recall at different thresholds:"
   ]
  },
  {
   "cell_type": "code",
   "execution_count": 144,
   "id": "622a07df",
   "metadata": {},
   "outputs": [
    {
     "name": "stdout",
     "output_type": "stream",
     "text": [
      "Threshold: 0.2\n",
      "              precision    recall  f1-score   support\n",
      "\n",
      "           0       0.99      0.22      0.36     79268\n",
      "           1       0.12      0.98      0.21      8470\n",
      "\n",
      "    accuracy                           0.29     87738\n",
      "   macro avg       0.55      0.60      0.28     87738\n",
      "weighted avg       0.91      0.29      0.34     87738\n",
      "\n",
      "\n",
      "========================================\n",
      "\n",
      "Threshold: 0.3\n",
      "              precision    recall  f1-score   support\n",
      "\n",
      "           0       0.98      0.37      0.54     79268\n",
      "           1       0.14      0.93      0.24      8470\n",
      "\n",
      "    accuracy                           0.42     87738\n",
      "   macro avg       0.56      0.65      0.39     87738\n",
      "weighted avg       0.90      0.42      0.51     87738\n",
      "\n",
      "\n",
      "========================================\n",
      "\n",
      "Threshold: 0.4\n",
      "              precision    recall  f1-score   support\n",
      "\n",
      "           0       0.97      0.54      0.70     79268\n",
      "           1       0.16      0.83      0.27      8470\n",
      "\n",
      "    accuracy                           0.57     87738\n",
      "   macro avg       0.57      0.69      0.48     87738\n",
      "weighted avg       0.89      0.57      0.65     87738\n",
      "\n",
      "\n",
      "========================================\n",
      "\n",
      "Threshold: 0.5\n",
      "              precision    recall  f1-score   support\n",
      "\n",
      "           0       0.96      0.64      0.76     79268\n",
      "           1       0.18      0.75      0.29      8470\n",
      "\n",
      "    accuracy                           0.65     87738\n",
      "   macro avg       0.57      0.69      0.53     87738\n",
      "weighted avg       0.88      0.65      0.72     87738\n",
      "\n",
      "\n",
      "========================================\n",
      "\n",
      "Threshold: 0.6\n",
      "              precision    recall  f1-score   support\n",
      "\n",
      "           0       0.94      0.76      0.84     79268\n",
      "           1       0.20      0.57      0.30      8470\n",
      "\n",
      "    accuracy                           0.74     87738\n",
      "   macro avg       0.57      0.66      0.57     87738\n",
      "weighted avg       0.87      0.74      0.79     87738\n",
      "\n",
      "\n",
      "========================================\n",
      "\n"
     ]
    }
   ],
   "source": [
    "# Get predicted probabilities for the positive class\n",
    "\n",
    "probabilities = logreg_without_pca.predict_proba(X_test)[:, 1]\n",
    "\n",
    "# Define a list of thresholds to test\n",
    "thresholds = [0.2, 0.3, 0.4, 0.5, 0.6]  \n",
    "\n",
    "# Iterate through thresholds and print classification report for each\n",
    "for threshold in thresholds:\n",
    "    y_pred_threshold = (probabilities >= threshold).astype(int)  # Convert probabilities to binary predictions\n",
    "    print(f\"Threshold: {threshold}\")\n",
    "    print(classification_report(y_test, y_pred_threshold))\n",
    "    print(\"\\n\" + \"=\"*40 + \"\\n\")  # Add a line break between classification reports\n"
   ]
  },
  {
   "cell_type": "markdown",
   "id": "10dfa2c6",
   "metadata": {},
   "source": [
    "**Findings:**"
   ]
  },
  {
   "cell_type": "markdown",
   "id": "8823d651",
   "metadata": {},
   "source": [
    "For cancer prediction, we will focus on sensitivity/recall while maintaining an acceptable level of precision , and the balance between these metrics should be considered in light of the consequences of false positives and false negatives ."
   ]
  },
  {
   "cell_type": "markdown",
   "id": "815f07f5",
   "metadata": {},
   "source": [
    "- At Threshold 0.2 , High recall for class 1 (positive class) with low precision. It identifies a high number of actual positive cases but also misclassifies many negative cases as positive. F1-score is Low due to imbalanced precision and recall. In terms of accuracy, it is low due to the imbalance in correctly identifying the negative class.\n"
   ]
  },
  {
   "cell_type": "markdown",
   "id": "836987b3",
   "metadata": {},
   "source": [
    "- At Threshold 0.3,a slight improvement in precision while maintaining a relatively high recall for the positive class. However, there's still a trade-off between precision and recall.F1-score has a little improvement but still imbalanced.For accuracy,it is moderate, it improved from the previous threshold but still affected by the imbalance."
   ]
  },
  {
   "cell_type": "markdown",
   "id": "ac0b9914",
   "metadata": {},
   "source": [
    "- At Threshold 0.4, balanced precision and recall for class 1 compared to lower thresholds. It still retains relatively high recall while improving precision. The number of false positives is reduced. F1-score is better than lower thresholds due to improved balance. For accuracy, it is moderate to good due to the reduction in false positives.\n"
   ]
  },
  {
   "cell_type": "markdown",
   "id": "07aacc76",
   "metadata": {},
   "source": [
    "- At Threshold 0.5,a trade-off between precision and recall, with a considerable increase in precision compared to lower thresholds. However, the recall drops here.F1-score is better than lower thresholds due to improved balance. For accuracy , it have improved slightly due to fewer false positives.\n"
   ]
  },
  {
   "cell_type": "markdown",
   "id": "b545dbd5",
   "metadata": {},
   "source": [
    "\n",
    "\n",
    "\n",
    "\n",
    "\n",
    "- At Threshold 0.6, Precision increases, but recall decreases. It identifies fewer false positives but also misses more positive cases, resulting in lower recall.F1-score is around 30. For accuracy , it is high due to fewer false positives but misses a considerable number of positive cases.\n",
    "\n"
   ]
  },
  {
   "cell_type": "markdown",
   "id": "0be1f663",
   "metadata": {},
   "source": [
    "Now , we will plot a precision-recall curve to oberve them at different thresholds for class 1:"
   ]
  },
  {
   "cell_type": "code",
   "execution_count": 3,
   "id": "d9d612db",
   "metadata": {},
   "outputs": [
    {
     "data": {
      "image/png": "[encoded data removed]",
      "text/plain": [
       "<Figure size 640x480 with 1 Axes>"
      ]
     },
     "metadata": {},
     "output_type": "display_data"
    }
   ],
   "source": [
    "thresholds = [0.2, 0.3, 0.4, 0.5, 0.6]\n",
    "precision = [0.12, 0.14, 0.16, 0.18, 0.20]\n",
    "recall = [0.98, 0.93, 0.83, 0.75, 0.57]\n",
    "\n",
    "# Plot precision\n",
    "plt.plot(thresholds, precision, marker='o', label='Precision')\n",
    "\n",
    "# Plot recall\n",
    "plt.plot(thresholds, recall, marker='o', label='Recall')\n",
    "\n",
    "# Set labels and title\n",
    "plt.xlabel('Threshold')\n",
    "plt.ylabel('Value')\n",
    "plt.title('Precision-Recall at Different Thresholds')\n",
    "\n",
    "# Show legend\n",
    "plt.legend()\n",
    "\n",
    "# Show the plot\n",
    "plt.show()"
   ]
  },
  {
   "cell_type": "markdown",
   "id": "37304e35",
   "metadata": {},
   "source": [
    "From the curve, since we are focusing on a balance between precision and recall while ensuring a decent recall for class 1 (positive class) , a threshold around 0.4 might be a reasonable choice. At this threshold, there is a trade-off between false positives and false negatives, providing a relatively balanced precision-recall trade-off. This threshold prioritizes catching more positive cases."
   ]
  },
  {
   "cell_type": "markdown",
   "id": "cd283f95",
   "metadata": {},
   "source": [
    "Now , we will plot ROC-AUC curve to evaluates the ability of the model to discriminate between positive and negative classes across different thresholds:"
   ]
  },
  {
   "cell_type": "code",
   "execution_count": 166,
   "id": "2f5d3ba3",
   "metadata": {},
   "outputs": [
    {
     "data": {
      "image/png": "[encoded data removed]",
      "text/plain": [
       "<Figure size 640x480 with 1 Axes>"
      ]
     },
     "metadata": {},
     "output_type": "display_data"
    },
    {
     "name": "stdout",
     "output_type": "stream",
     "text": [
      "Test AUC score: 0.748550131727741\n",
      "Train AUC score: 0.7523240252071275\n"
     ]
    }
   ],
   "source": [
    "#Get the probability for each point in the train set.\n",
    "y_proba_train = logreg_without_pca.predict_proba(X_train)[:,1]\n",
    "\n",
    "# Calculate ROC curve and AUC for for the train set\n",
    "fprs_train, tprs_train, thresholds_train = roc_curve(y_train, y_proba_train)\n",
    "roc_auc_train = roc_auc_score(y_train, y_proba_train)\n",
    "\n",
    "# Calculate ROC curve and AUC for the test set\n",
    "fprs_test, tprs_test, thresholds_test = roc_curve(y_test, probabilities)\n",
    "roc_auc_test = roc_auc_score(y_test, probabilities)\n",
    "  \n",
    "# Plot the ROC curve.\n",
    "plt.figure()\n",
    "plt.plot(fprs_train, tprs_train, color='darkorange', lw=2, label='train')\n",
    "plt.plot(fprs_test, tprs_test, lw=2, label='test')\n",
    "plt.plot([0, 1], [0, 1], color='navy', lw=2, linestyle='--')\n",
    "plt.xlabel('False Positive Rate')\n",
    "plt.ylabel('True Positive Rate')\n",
    "plt.title('ROC and AUC')\n",
    "plt.legend(loc=\"best\")\n",
    "plt.show()\n",
    "print(f\"Test AUC score: {roc_auc_test}\")\n",
    "print(f\"Train AUC score: {roc_auc_train}\")"
   ]
  },
  {
   "cell_type": "markdown",
   "id": "9d36fa24",
   "metadata": {},
   "source": [
    "AUC (Area Under the Curve) scores of around 0.75 for both the training and test sets indicate good performance in distinguishing between classes. The AUC measures the ability of the model to differentiate between positive and negative classes, with a score closer to 1.0 representing better discrimination. In this case, the model appears to generalize well to unseen data, as the AUC score on the test set is similar to that of the training set.\n"
   ]
  },
  {
   "cell_type": "markdown",
   "id": "05457184",
   "metadata": {},
   "source": [
    "Then , we will evaluate logreg_pca model:"
   ]
  },
  {
   "cell_type": "code",
   "execution_count": 148,
   "id": "c62df697",
   "metadata": {},
   "outputs": [
    {
     "name": "stdout",
     "output_type": "stream",
     "text": [
      "                Predicted 0  Predicted 1  Sum of Predictions\n",
      "Actual 0              51322        27946               79268\n",
      "Actual 1               2316         6154                8470\n",
      "Sum of Actuals        53638        34100               87738\n"
     ]
    }
   ],
   "source": [
    "y_pred_pca = logreg_pca.predict(X_test_pca)\n",
    "\n",
    "# Construct the confusion matrix\n",
    "conf_matrix = confusion_matrix(y_test, y_pred_pca)\n",
    "\n",
    "# Add totals for rows and columns\n",
    "conf_df = pd.DataFrame(conf_matrix, columns=['Predicted 0', 'Predicted 1'], index=['Actual 0', 'Actual 1'])\n",
    "conf_df.loc['Sum of Actuals'] = conf_df.sum()\n",
    "conf_df['Sum of Predictions'] = conf_df.sum(axis=1)\n",
    "\n",
    "# Display the confusion matrix\n",
    "print(conf_df)"
   ]
  },
  {
   "cell_type": "markdown",
   "id": "57a437b2",
   "metadata": {},
   "source": [
    "**Findings:**"
   ]
  },
  {
   "cell_type": "markdown",
   "id": "20a9d384",
   "metadata": {},
   "source": [
    "- For class 0 (Actual 0): 51,322 were correctly predicted, but 27,946 were falsely predicted as class 1.\n",
    "- For class 1 (Actual 1): 6,154 were correctly predicted, but 2,316 were falsely predicted as class 0."
   ]
  },
  {
   "cell_type": "markdown",
   "id": "0cdee4fe",
   "metadata": {},
   "source": [
    "Now , we will check precision and recall at different thresholds:"
   ]
  },
  {
   "cell_type": "code",
   "execution_count": 169,
   "id": "ba4587c7",
   "metadata": {},
   "outputs": [
    {
     "name": "stdout",
     "output_type": "stream",
     "text": [
      "Threshold: 0.2\n",
      "              precision    recall  f1-score   support\n",
      "\n",
      "           0       0.99      0.17      0.29     79268\n",
      "           1       0.11      0.98      0.20      8470\n",
      "\n",
      "    accuracy                           0.25     87738\n",
      "   macro avg       0.55      0.58      0.25     87738\n",
      "weighted avg       0.91      0.25      0.28     87738\n",
      "\n",
      "\n",
      "========================================\n",
      "\n",
      "Threshold: 0.3\n",
      "              precision    recall  f1-score   support\n",
      "\n",
      "           0       0.98      0.36      0.52     79268\n",
      "           1       0.13      0.93      0.23      8470\n",
      "\n",
      "    accuracy                           0.41     87738\n",
      "   macro avg       0.56      0.65      0.38     87738\n",
      "weighted avg       0.90      0.41      0.50     87738\n",
      "\n",
      "\n",
      "========================================\n",
      "\n",
      "Threshold: 0.4\n",
      "              precision    recall  f1-score   support\n",
      "\n",
      "           0       0.97      0.52      0.68     79268\n",
      "           1       0.16      0.85      0.27      8470\n",
      "\n",
      "    accuracy                           0.56     87738\n",
      "   macro avg       0.56      0.68      0.47     87738\n",
      "weighted avg       0.89      0.56      0.64     87738\n",
      "\n",
      "\n",
      "========================================\n",
      "\n",
      "Threshold: 0.5\n",
      "              precision    recall  f1-score   support\n",
      "\n",
      "           0       0.96      0.65      0.77     79268\n",
      "           1       0.18      0.73      0.29      8470\n",
      "\n",
      "    accuracy                           0.66     87738\n",
      "   macro avg       0.57      0.69      0.53     87738\n",
      "weighted avg       0.88      0.66      0.73     87738\n",
      "\n",
      "\n",
      "========================================\n",
      "\n",
      "Threshold: 0.6\n",
      "              precision    recall  f1-score   support\n",
      "\n",
      "           0       0.94      0.77      0.85     79268\n",
      "           1       0.20      0.55      0.29      8470\n",
      "\n",
      "    accuracy                           0.75     87738\n",
      "   macro avg       0.57      0.66      0.57     87738\n",
      "weighted avg       0.87      0.75      0.79     87738\n",
      "\n",
      "\n",
      "========================================\n",
      "\n"
     ]
    }
   ],
   "source": [
    "# Get predicted probabilities for the positive class\n",
    "\n",
    "probabilities_pca = logreg_pca.predict_proba(X_test_pca)[:, 1]\n",
    "\n",
    "# Define a list of thresholds to test\n",
    "thresholds = [0.2, 0.3, 0.4, 0.5, 0.6]  \n",
    "\n",
    "# Iterate through thresholds and print classification report for each\n",
    "for threshold in thresholds:\n",
    "    y_pred_threshold = (probabilities_pca >= threshold).astype(int)  # Convert probabilities to binary predictions\n",
    "    print(f\"Threshold: {threshold}\")\n",
    "    print(classification_report(y_test, y_pred_threshold))\n",
    "    print(\"\\n\" + \"=\"*40 + \"\\n\")  # Add a line break between classification reports\n"
   ]
  },
  {
   "cell_type": "markdown",
   "id": "de7d505c",
   "metadata": {},
   "source": [
    "**Findings:**"
   ]
  },
  {
   "cell_type": "markdown",
   "id": "e2419177",
   "metadata": {},
   "source": [
    "At Threshold 0.2, Precision (Class 1) is Very low at 0.11. Among all predicted positive cases, only 11% were actually positive.\n",
    "Recall (Class 1) is Very high at 0.98. 98% of actual positive cases were identified.For ,F1-Score (Class 1), it is fairly low at 0.20. It represents a balance between precision and recall.The accuracy is 25% due to the highly imbalanced dataset."
   ]
  },
  {
   "cell_type": "markdown",
   "id": "d7a0c57a",
   "metadata": {},
   "source": [
    "At Threshold 0.3, Precision (Class 1) still low at 0.13 but slightly improved from the previous threshold.Recall (Class 1)is very high at 0.93. Similar to threshold 0.2.For F1-Score (Class 1), it is slightly improved but remains relatively low at 0.23.\n",
    "The accuracy increased to 41%."
   ]
  },
  {
   "cell_type": "markdown",
   "id": "efb7c13d",
   "metadata": {},
   "source": [
    "At threshold 0.4 , Precision (Class 1) improved to 0.16.Recall (Class 1) still high at 0.85, indicating it correctly identifies positive cases more often.For F1-Score (Class 1), it is improved but relatively low at 0.27. The accuracy increased to 56%."
   ]
  },
  {
   "cell_type": "markdown",
   "id": "a6136c5f",
   "metadata": {},
   "source": [
    "At threshold 0.5 ,Precision (Class 1) still low at 0.18.Recall (Class 1) is 73% of actual positive cases were identified. For\n",
    "F1-Score (Class 1) it is 0.29, indicating a slight improvement.The accuracy improved to 66%."
   ]
  },
  {
   "cell_type": "markdown",
   "id": "392b6d10",
   "metadata": {},
   "source": [
    "At threshold 0.6, Precision (Class 1)is 0.20, slightly better.Recall (Class 1) decreased to 0.55 but still higher than at lower thresholds.For F1-Score (Class 1), it is 0.29, similar to the previous threshold.The accuracy: Increased to 75%."
   ]
  },
  {
   "cell_type": "markdown",
   "id": "169ee17b",
   "metadata": {},
   "source": [
    "Now , we will plot a precision-recall curve to oberve them at different thresholds for class 1:"
   ]
  },
  {
   "cell_type": "code",
   "execution_count": 4,
   "id": "5d46e56e",
   "metadata": {},
   "outputs": [
    {
     "data": {
      "image/png": "[encoded data removed]",
      "text/plain": [
       "<Figure size 640x480 with 1 Axes>"
      ]
     },
     "metadata": {},
     "output_type": "display_data"
    }
   ],
   "source": [
    "thresholds = [0.2, 0.3, 0.4, 0.5, 0.6]\n",
    "precision = [0.11, 0.13, 0.16, 0.18, 0.20]\n",
    "recall = [0.98, 0.93, 0.85, 0.73, 0.55]\n",
    "\n",
    "# Plot precision\n",
    "plt.plot(thresholds, precision, marker='o', label='Precision')\n",
    "\n",
    "# Plot recall\n",
    "plt.plot(thresholds, recall, marker='o', label='Recall')\n",
    "\n",
    "# Set labels and title\n",
    "plt.xlabel('Threshold')\n",
    "plt.ylabel('Value')\n",
    "plt.title('Precision-Recall at Different Thresholds')\n",
    "\n",
    "# Show legend\n",
    "plt.legend()\n",
    "\n",
    "# Show the plot\n",
    "plt.show()"
   ]
  },
  {
   "cell_type": "markdown",
   "id": "1a51cfef",
   "metadata": {},
   "source": [
    "From the curve above ,  a threshold between 0.4-0.5 provides a balanced precision-recall trade-off, with a relatively higher recall(0.73) while maintaining a reasonable precision (0.18)."
   ]
  },
  {
   "cell_type": "code",
   "execution_count": 171,
   "id": "574268d0",
   "metadata": {},
   "outputs": [
    {
     "data": {
      "image/png": "[encoded data removed]",
      "text/plain": [
       "<Figure size 640x480 with 1 Axes>"
      ]
     },
     "metadata": {},
     "output_type": "display_data"
    },
    {
     "name": "stdout",
     "output_type": "stream",
     "text": [
      "Test AUC score: 0.7454491097973852\n",
      "Train AUC score: 0.7485001923736877\n"
     ]
    }
   ],
   "source": [
    "#Get the probability for each point in the train set.\n",
    "y_proba_train = logreg_pca.predict_proba(X_train_pca)[:,1]\n",
    "\n",
    "# Calculate ROC curve and AUC for for the train set\n",
    "fprs_train, tprs_train, thresholds_train = roc_curve(y_train, y_proba_train)\n",
    "roc_auc_train = roc_auc_score(y_train, y_proba_train)\n",
    "\n",
    "# Calculate ROC curve and AUC for the test set\n",
    "fprs_test, tprs_test, thresholds_test = roc_curve(y_test, probabilities_pca)\n",
    "roc_auc_test = roc_auc_score(y_test, probabilities_pca)\n",
    "  \n",
    "# Plot the ROC curve.\n",
    "plt.figure()\n",
    "plt.plot(fprs_train, tprs_train, color='darkorange', lw=2, label='train')\n",
    "plt.plot(fprs_test, tprs_test, lw=2, label='test')\n",
    "plt.plot([0, 1], [0, 1], color='navy', lw=2, linestyle='--')\n",
    "plt.xlabel('False Positive Rate')\n",
    "plt.ylabel('True Positive Rate')\n",
    "plt.title('ROC and AUC')\n",
    "plt.legend(loc=\"best\")\n",
    "plt.show()\n",
    "print(f\"Test AUC score: {roc_auc_test}\")\n",
    "print(f\"Train AUC score: {roc_auc_train}\")"
   ]
  },
  {
   "cell_type": "markdown",
   "id": "56fe5321",
   "metadata": {},
   "source": [
    "Both scores are relatively close to each other, suggesting that the model performs similarly on both the training and test sets. This indicates that the model generalizes well and doesn't overfit the training data."
   ]
  },
  {
   "cell_type": "markdown",
   "id": "c076a15d",
   "metadata": {},
   "source": [
    "**Summary:**"
   ]
  },
  {
   "cell_type": "markdown",
   "id": "90ea4b36",
   "metadata": {},
   "source": [
    "- **Recall at Threshold 0.5:**\n",
    "The model without PCA exhibits slightly higher recall by 2%.\n",
    "\n",
    "- **Accuracy at Threshold 0.5:**\n",
    "Both models show similar accuracy, with the PCA model slightly edging ahead.\n",
    "\n",
    "- **AUC (Test):**\n",
    "The model without PCA has a slightly higher AUC, indicating better overall performance in distinguishing classes.\n",
    "\n",
    "- **Balance Between Precision and Recall:**\n",
    "Both models maintain a similar balance between precision and recall, favoring recall while having a relatively low precision."
   ]
  },
  {
   "cell_type": "markdown",
   "id": "c293b293",
   "metadata": {},
   "source": [
    "### Model 3.2: Random Forest Classifier<a id=\"Random-Forest-Classifier\"></a>"
   ]
  },
  {
   "cell_type": "markdown",
   "id": "e6eed98f",
   "metadata": {},
   "source": [
    "We will fit 'rf' model on the original dataset:"
   ]
  },
  {
   "cell_type": "code",
   "execution_count": 151,
   "id": "97eeb79b",
   "metadata": {},
   "outputs": [
    {
     "name": "stdout",
     "output_type": "stream",
     "text": [
      "Train Accuracy: 0.8107604458729399\n",
      "Test Accuracy: 0.755704483804053\n"
     ]
    }
   ],
   "source": [
    "rf = RandomForestClassifier(class_weight='balanced',random_state=42)\n",
    "rf.fit(X_train, y_train)\n",
    "\n",
    "# Evaluate your model\n",
    "accuracy_train = rf.score(X_train, y_train)\n",
    "accuracy_test = rf.score(X_test, y_test)\n",
    "\n",
    "print(f\"Train Accuracy: {accuracy_train}\")\n",
    "print(f\"Test Accuracy: {accuracy_test}\")"
   ]
  },
  {
   "cell_type": "markdown",
   "id": "b1a5a252",
   "metadata": {},
   "source": [
    "We will fit 'rf_pca' model on the PCA-transformed dataste:"
   ]
  },
  {
   "cell_type": "code",
   "execution_count": 31,
   "id": "d369ad5c",
   "metadata": {},
   "outputs": [
    {
     "name": "stdout",
     "output_type": "stream",
     "text": [
      "Train Accuracy with pca: 0.8108259819006588\n",
      "Test Accuracy with pca: 0.7578130342610956\n"
     ]
    }
   ],
   "source": [
    "rf_pca = RandomForestClassifier(class_weight='balanced',random_state=42)\n",
    "rf_pca.fit(X_train_pca, y_train)\n",
    "\n",
    "# Evaluate your model\n",
    "accuracy_train = rf_pca.score(X_train_pca, y_train)\n",
    "accuracy_test = rf_pca.score(X_test_pca, y_test)\n",
    "\n",
    "print(f\"Train Accuracy with pca: {accuracy_train}\")\n",
    "print(f\"Test Accuracy with pca: {accuracy_test}\")"
   ]
  },
  {
   "cell_type": "markdown",
   "id": "b52d7098",
   "metadata": {},
   "source": [
    "The results of both models suggest that while PCA didn't lead to a dramatic improvement in accuracy, it did help maintain or slightly enhance the model's performance by reducing the dimensionality of the feature space. This can be beneficial for computational efficiency or interpretability."
   ]
  },
  {
   "cell_type": "markdown",
   "id": "597aae5d",
   "metadata": {},
   "source": [
    "We will use a GridSearchCV, to find the best hyperparameters as the following :"
   ]
  },
  {
   "cell_type": "code",
   "execution_count": 62,
   "id": "dd114709",
   "metadata": {},
   "outputs": [
    {
     "name": "stdout",
     "output_type": "stream",
     "text": [
      "Best Parameters: {'max_depth': 5, 'min_samples_leaf': 1, 'min_samples_split': 2, 'n_estimators': 200}\n",
      "Recall on Training Set: 0.7643082735617934\n",
      "Recall on Test Set: 0.7574970484061393\n"
     ]
    }
   ],
   "source": [
    "# Define the parameters you want to search through\n",
    "param_grid = {\n",
    "    'n_estimators': [100, 200, 300],\n",
    "    'max_depth': [None, 5, 10, 15],\n",
    "    'min_samples_split': [2, 5, 10],\n",
    "    'min_samples_leaf': [1, 2, 4]\n",
    "}\n",
    "\n",
    "# Create the GridSearchCV object\n",
    "grid_search = GridSearchCV(RandomForestClassifier(class_weight='balanced'), param_grid, cv=5, scoring='recall')\n",
    "\n",
    "# Fit the grid search to the data\n",
    "grid_search.fit(X_train, y_train)\n",
    "\n",
    "# Get the best parameters and the best model (assigned to rf)\n",
    "best_params = grid_search.best_params_\n",
    "rf = grid_search.best_estimator_\n",
    "\n",
    "# Use the best model for prediction on both training and test sets\n",
    "train_predictions = rf.predict(X_train)\n",
    "test_predictions = rf.predict(X_test)\n",
    "\n",
    "# Calculate the recall on the training and test data using the best model (assigned to rf)\n",
    "train_recall = recall_score(y_train, train_predictions)\n",
    "test_recall = recall_score(y_test, test_predictions)\n",
    "\n",
    "# Print the best parameters and recall scores\n",
    "print(f\"Best Parameters: {best_params}\")\n",
    "print(f\"Recall on Training Set: {train_recall}\")\n",
    "print(f\"Recall on Test Set: {test_recall}\")"
   ]
  },
  {
   "cell_type": "markdown",
   "id": "47a672f6",
   "metadata": {},
   "source": [
    "Now , we will add the best parameters to our 'rf' model :"
   ]
  },
  {
   "cell_type": "code",
   "execution_count": 63,
   "id": "867535c3",
   "metadata": {},
   "outputs": [
    {
     "name": "stdout",
     "output_type": "stream",
     "text": [
      "Train Accuracy without pca: 0.6458404568146071\n",
      "Test Accuracy without pca: 0.6454671863958604\n"
     ]
    }
   ],
   "source": [
    "rf = RandomForestClassifier(class_weight='balanced', max_depth= 5, min_samples_leaf=1, min_samples_split= 2, n_estimators= 200,random_state=42)\n",
    "rf.fit(X_train, y_train)\n",
    "\n",
    "# Evaluate your model\n",
    "accuracy_train = rf.score(X_train, y_train)\n",
    "accuracy_test = rf.score(X_test, y_test)\n",
    "\n",
    "print(f\"Train Accuracy without pca: {accuracy_train}\")\n",
    "print(f\"Test Accuracy without pca: {accuracy_test}\")"
   ]
  },
  {
   "cell_type": "markdown",
   "id": "ed3c1ab8",
   "metadata": {},
   "source": [
    "Then , we will add the best parameters to 'rf_pca' model :"
   ]
  },
  {
   "cell_type": "code",
   "execution_count": 64,
   "id": "478952ee",
   "metadata": {},
   "outputs": [
    {
     "name": "stdout",
     "output_type": "stream",
     "text": [
      "Train Accuracy with pca: 0.6073964530762042\n",
      "Test Accuracy with pca: 0.6057808475233081\n"
     ]
    }
   ],
   "source": [
    "rf_pca = RandomForestClassifier(class_weight='balanced', max_depth= 5, min_samples_leaf=1, min_samples_split= 2, n_estimators= 200,random_state=42)\n",
    "rf_pca.fit(X_train_pca, y_train)\n",
    "\n",
    "# Evaluate your model\n",
    "accuracy_train = rf_pca.score(X_train_pca, y_train)\n",
    "accuracy_test = rf_pca.score(X_test_pca, y_test)\n",
    "\n",
    "print(f\"Train Accuracy with pca: {accuracy_train}\")\n",
    "print(f\"Test Accuracy with pca: {accuracy_test}\")"
   ]
  },
  {
   "cell_type": "markdown",
   "id": "8050479c",
   "metadata": {},
   "source": [
    "The model without PCA seems to have a higher accuracy on both the training and test sets. For the model with PCA, the accuracy drops on both the training and test sets, compared to the model without PCA."
   ]
  },
  {
   "cell_type": "markdown",
   "id": "aaee1a11",
   "metadata": {},
   "source": [
    "We will calculate the recall for train and test sets for rf_pca:"
   ]
  },
  {
   "cell_type": "code",
   "execution_count": 72,
   "id": "631b4ee5",
   "metadata": {},
   "outputs": [
    {
     "name": "stdout",
     "output_type": "stream",
     "text": [
      "Recall on Training Set: 0.7810738215413678\n",
      "Recall on Test Set: 0.769185360094451\n"
     ]
    }
   ],
   "source": [
    "# Predictions on training data\n",
    "train_predictions = rf_pca.predict(X_train_pca)\n",
    "\n",
    "# Predictions on test data\n",
    "test_predictions = rf_pca.predict(X_test_pca)\n",
    "\n",
    "# Calculate recall on training data\n",
    "train_recall = recall_score(y_train, train_predictions)\n",
    "\n",
    "# Calculate recall on test data\n",
    "test_recall = recall_score(y_test, test_predictions)\n",
    "\n",
    "print(\"Recall on Training Set:\", train_recall)\n",
    "print(\"Recall on Test Set:\", test_recall)"
   ]
  },
  {
   "cell_type": "markdown",
   "id": "023039c7",
   "metadata": {},
   "source": [
    "The model with PCA preprocessing tend to have slightly higher recall scores on both the training and test sets compared to the models without PCA. Therefore, based on these recall scores, the models with PCA preprocessing appear to perform slightly better in terms of recall on both the training and test sets."
   ]
  },
  {
   "cell_type": "markdown",
   "id": "1d7a8275",
   "metadata": {},
   "source": [
    "**Random Forest Model Evaluation**"
   ]
  },
  {
   "cell_type": "markdown",
   "id": "c1e530c9",
   "metadata": {},
   "source": [
    "To evaluate the 'rf' model : "
   ]
  },
  {
   "cell_type": "code",
   "execution_count": 65,
   "id": "bdc74b8f",
   "metadata": {},
   "outputs": [
    {
     "name": "stdout",
     "output_type": "stream",
     "text": [
      "Threshold: 0.2\n",
      "              precision    recall  f1-score   support\n",
      "\n",
      "           0       0.99      0.08      0.15     79268\n",
      "           1       0.10      0.99      0.19      8470\n",
      "\n",
      "    accuracy                           0.17     87738\n",
      "   macro avg       0.55      0.54      0.17     87738\n",
      "weighted avg       0.91      0.17      0.15     87738\n",
      "\n",
      "\n",
      "========================================\n",
      "\n",
      "Threshold: 0.3\n",
      "              precision    recall  f1-score   support\n",
      "\n",
      "           0       0.99      0.27      0.43     79268\n",
      "           1       0.12      0.96      0.22      8470\n",
      "\n",
      "    accuracy                           0.34     87738\n",
      "   macro avg       0.55      0.62      0.32     87738\n",
      "weighted avg       0.90      0.34      0.41     87738\n",
      "\n",
      "\n",
      "========================================\n",
      "\n",
      "Threshold: 0.4\n",
      "              precision    recall  f1-score   support\n",
      "\n",
      "           0       0.97      0.48      0.64     79268\n",
      "           1       0.15      0.87      0.26      8470\n",
      "\n",
      "    accuracy                           0.52     87738\n",
      "   macro avg       0.56      0.67      0.45     87738\n",
      "weighted avg       0.89      0.52      0.60     87738\n",
      "\n",
      "\n",
      "========================================\n",
      "\n",
      "Threshold: 0.5\n",
      "              precision    recall  f1-score   support\n",
      "\n",
      "           0       0.96      0.63      0.76     79268\n",
      "           1       0.18      0.75      0.29      8470\n",
      "\n",
      "    accuracy                           0.65     87738\n",
      "   macro avg       0.57      0.69      0.53     87738\n",
      "weighted avg       0.88      0.65      0.72     87738\n",
      "\n",
      "\n",
      "========================================\n",
      "\n",
      "Threshold: 0.6\n",
      "              precision    recall  f1-score   support\n",
      "\n",
      "           0       0.94      0.77      0.85     79268\n",
      "           1       0.20      0.54      0.29      8470\n",
      "\n",
      "    accuracy                           0.75     87738\n",
      "   macro avg       0.57      0.66      0.57     87738\n",
      "weighted avg       0.87      0.75      0.79     87738\n",
      "\n",
      "\n",
      "========================================\n",
      "\n"
     ]
    }
   ],
   "source": [
    "# Get predicted probabilities for the positive class\n",
    "y_probs = rf.predict_proba(X_test)[:, 1]  # Assuming the positive class is index 1\n",
    "\n",
    "# Define a list of thresholds to test\n",
    "thresholds = [0.2, 0.3, 0.4, 0.5, 0.6]  \n",
    "\n",
    "# Iterate through thresholds and print classification report for each\n",
    "for threshold in thresholds:\n",
    "    y_pred_threshold = (y_probs >= threshold).astype(int)  # Convert probabilities to binary predictions\n",
    "    print(f\"Threshold: {threshold}\")\n",
    "    print(classification_report(y_test, y_pred_threshold))\n",
    "    print(\"\\n\" + \"=\"*40 + \"\\n\")  # Add a line break between classification reports\n"
   ]
  },
  {
   "cell_type": "markdown",
   "id": "672031c5",
   "metadata": {},
   "source": [
    "**Findings:**"
   ]
  },
  {
   "cell_type": "markdown",
   "id": "aac2d80a",
   "metadata": {},
   "source": [
    "- Threshold: 0.2\n",
    "\n",
    "Precision for Class 1 (Positive Cases): 0.10. Recall for Class 1: 0.99. Low precision indicates a high rate of false positives, while high recall indicates the model captures a significant portion of actual positive cases."
   ]
  },
  {
   "cell_type": "markdown",
   "id": "109a82e4",
   "metadata": {},
   "source": [
    "- Threshold: 0.3\n",
    "\n",
    "Precision for Class 1 (Positive Cases): 0.12. Recall for Class 1: 0.96. Slight improvement in precision while maintaining a reasonable recall."
   ]
  },
  {
   "cell_type": "markdown",
   "id": "b298ece8",
   "metadata": {},
   "source": [
    "- Threshold: 0.4\n",
    "\n",
    "Precision for Class 1 (Positive Cases): 0.16. Recall for Class 1: 0.48. Another increase in precision, but recall decreases as a trade-off."
   ]
  },
  {
   "cell_type": "markdown",
   "id": "96cce45a",
   "metadata": {},
   "source": [
    "- Threshold: 0.5\n",
    "\n",
    "Precision for Class 1 (Positive Cases): 0.18. Recall for Class 1: 0.75. Increment in precision while maintaining a moderate recall. There's a trade-off between precision and recall, trying to balance both measures."
   ]
  },
  {
   "cell_type": "markdown",
   "id": "68f899d1",
   "metadata": {},
   "source": [
    "- Threshold: 0.6\n",
    "\n",
    "Precision for Class 1 (Positive Cases): 0.20. Recall for Class 1: 0.54. Continued increase in precision but with a noticeable decline in recall."
   ]
  },
  {
   "cell_type": "markdown",
   "id": "47f1e726",
   "metadata": {},
   "source": [
    "Now , we will generate an interactive plot showing how precision and recall vary across thresholds for each class:"
   ]
  },
  {
   "cell_type": "code",
   "execution_count": 5,
   "id": "93c3618a",
   "metadata": {},
   "outputs": [
    {
     "data": {
      "image/png": "[encoded data removed]",
      "text/plain": [
       "<Figure size 640x480 with 1 Axes>"
      ]
     },
     "metadata": {},
     "output_type": "display_data"
    }
   ],
   "source": [
    "\n",
    "thresholds = [0.2, 0.3, 0.4, 0.5, 0.6]\n",
    "precision = [0.10, 0.12, 0.15, 0.18, 0.20]\n",
    "recall = [0.99, 0.96, 0.87, 0.75, 0.54]\n",
    "\n",
    "# Plot precision\n",
    "plt.plot(thresholds, precision, marker='o', label='Precision')\n",
    "\n",
    "# Plot recall\n",
    "plt.plot(thresholds, recall, marker='o', label='Recall')\n",
    "\n",
    "# Set labels and title\n",
    "plt.xlabel('Threshold')\n",
    "plt.ylabel('Value')\n",
    "plt.title('Precision-Recall at Different Thresholds')\n",
    "\n",
    "# Show legend\n",
    "plt.legend()\n",
    "\n",
    "# Show the plot\n",
    "plt.show()"
   ]
  },
  {
   "cell_type": "markdown",
   "id": "f7a6b1a0",
   "metadata": {},
   "source": [
    "The high recall is critical,so we choose a threshold that maximizes recall while keeping an acceptable level of precision. Also , the point on the curve that maximizes the F1 score could indicate a good balance between precision and recall.For this reason, considering a balance between recall and precision, the threshold of 0.5 might be a good choice as it balances both recall and precision metrics somewhat better compared to the other thresholds."
   ]
  },
  {
   "cell_type": "markdown",
   "id": "4a9cf9e6",
   "metadata": {},
   "source": [
    "Now , we will plot ROC-AUC curve to evaluates the ability of the model to discriminate between positive and negative classes across different thresholds:"
   ]
  },
  {
   "cell_type": "code",
   "execution_count": 68,
   "id": "c1a2afb2",
   "metadata": {},
   "outputs": [
    {
     "data": {
      "image/png": "[encoded data removed]",
      "text/plain": [
       "<Figure size 640x480 with 1 Axes>"
      ]
     },
     "metadata": {},
     "output_type": "display_data"
    },
    {
     "name": "stdout",
     "output_type": "stream",
     "text": [
      "Test AUC score: 0.7463144539061337\n",
      "Train AUC score: 0.7515003367120077\n"
     ]
    }
   ],
   "source": [
    "#Get the probability for each point in the train set.\n",
    "y_proba_train = rf.predict_proba(X_train)[:,1]\n",
    "\n",
    "# Calculate ROC curve and AUC for for the train set\n",
    "fprs_train, tprs_train, thresholds_train = roc_curve(y_train, y_proba_train)\n",
    "roc_auc_train = roc_auc_score(y_train, y_proba_train)\n",
    "\n",
    "# Calculate ROC curve and AUC for the test set\n",
    "fprs_test, tprs_test, thresholds_test = roc_curve(y_test, y_probs)\n",
    "roc_auc_test = roc_auc_score(y_test, y_probs)\n",
    "  \n",
    "# Plot the ROC curve.\n",
    "plt.figure()\n",
    "plt.plot(fprs_train, tprs_train, color='darkorange', lw=2, label='train')\n",
    "plt.plot(fprs_test, tprs_test, lw=2, label='test')\n",
    "plt.plot([0, 1], [0, 1], color='navy', lw=2, linestyle='--')\n",
    "plt.xlabel('False Positive Rate')\n",
    "plt.ylabel('True Positive Rate')\n",
    "plt.title('ROC and AUC')\n",
    "plt.legend(loc=\"best\")\n",
    "plt.show()\n",
    "print(f\"Test AUC score: {roc_auc_test}\")\n",
    "print(f\"Train AUC score: {roc_auc_train}\")"
   ]
  },
  {
   "cell_type": "markdown",
   "id": "4ae6ee78",
   "metadata": {},
   "source": [
    "The AUC scores indicate the performance of the model in distinguishing between positive and negative cases across the train and test sets. With the test AUC at 0.746 and train AUC at 0.751, the model shows a consistent performance between the training and test datasets, suggesting a reliable ability to discriminate between classes."
   ]
  },
  {
   "cell_type": "markdown",
   "id": "2591b422",
   "metadata": {},
   "source": [
    "To evaluate the 'rf_pca' model :"
   ]
  },
  {
   "cell_type": "code",
   "execution_count": 69,
   "id": "f598fe4a",
   "metadata": {},
   "outputs": [
    {
     "name": "stdout",
     "output_type": "stream",
     "text": [
      "Threshold: 0.2\n",
      "              precision    recall  f1-score   support\n",
      "\n",
      "           0       0.99      0.04      0.07     79268\n",
      "           1       0.10      1.00      0.18      8470\n",
      "\n",
      "    accuracy                           0.13     87738\n",
      "   macro avg       0.54      0.52      0.13     87738\n",
      "weighted avg       0.90      0.13      0.08     87738\n",
      "\n",
      "\n",
      "========================================\n",
      "\n",
      "Threshold: 0.3\n",
      "              precision    recall  f1-score   support\n",
      "\n",
      "           0       0.98      0.28      0.43     79268\n",
      "           1       0.12      0.96      0.22      8470\n",
      "\n",
      "    accuracy                           0.34     87738\n",
      "   macro avg       0.55      0.62      0.33     87738\n",
      "weighted avg       0.90      0.34      0.41     87738\n",
      "\n",
      "\n",
      "========================================\n",
      "\n",
      "Threshold: 0.4\n",
      "              precision    recall  f1-score   support\n",
      "\n",
      "           0       0.97      0.45      0.61     79268\n",
      "           1       0.14      0.87      0.25      8470\n",
      "\n",
      "    accuracy                           0.49     87738\n",
      "   macro avg       0.56      0.66      0.43     87738\n",
      "weighted avg       0.89      0.49      0.58     87738\n",
      "\n",
      "\n",
      "========================================\n",
      "\n",
      "Threshold: 0.5\n",
      "              precision    recall  f1-score   support\n",
      "\n",
      "           0       0.96      0.59      0.73     79268\n",
      "           1       0.17      0.77      0.27      8470\n",
      "\n",
      "    accuracy                           0.61     87738\n",
      "   macro avg       0.56      0.68      0.50     87738\n",
      "weighted avg       0.88      0.61      0.69     87738\n",
      "\n",
      "\n",
      "========================================\n",
      "\n",
      "Threshold: 0.6\n",
      "              precision    recall  f1-score   support\n",
      "\n",
      "           0       0.94      0.79      0.85     79268\n",
      "           1       0.20      0.50      0.28      8470\n",
      "\n",
      "    accuracy                           0.76     87738\n",
      "   macro avg       0.57      0.64      0.57     87738\n",
      "weighted avg       0.86      0.76      0.80     87738\n",
      "\n",
      "\n",
      "========================================\n",
      "\n"
     ]
    }
   ],
   "source": [
    "# Get predicted probabilities for the positive class\n",
    "y_probs_pca = rf_pca.predict_proba(X_test_pca)[:, 1]  # Assuming the positive class is index 1\n",
    "\n",
    "# Define a list of thresholds to test\n",
    "thresholds = [0.2, 0.3, 0.4, 0.5, 0.6]  \n",
    "\n",
    "# Iterate through thresholds and print classification report for each\n",
    "for threshold in thresholds:\n",
    "    y_pred_threshold = (y_probs_pca >= threshold).astype(int)  # Convert probabilities to binary predictions\n",
    "    print(f\"Threshold: {threshold}\")\n",
    "    print(classification_report(y_test, y_pred_threshold))\n",
    "    print(\"\\n\" + \"=\"*40 + \"\\n\")  # Add a line break between classification reports\n"
   ]
  },
  {
   "cell_type": "markdown",
   "id": "b869ee38",
   "metadata": {},
   "source": [
    "**Findings**"
   ]
  },
  {
   "cell_type": "markdown",
   "id": "8c53ad0b",
   "metadata": {},
   "source": [
    "- Threshold: 0.2\n",
    "\n",
    "At this threshold, the model identifies a higher proportion of actual positive cases (recall) compared to other thresholds. However, this comes at the cost of precision, resulting in a higher rate of false positives."
   ]
  },
  {
   "cell_type": "markdown",
   "id": "6a2fbd39",
   "metadata": {},
   "source": [
    "- Threshold: 0.3\n",
    "\n",
    "The model slightly improves precision while maintaining a moderate recall compared to the previous threshold. It captures a reasonable number of actual positive cases while reducing false positives to some extent.\n"
   ]
  },
  {
   "cell_type": "markdown",
   "id": "d9d1096c",
   "metadata": {},
   "source": [
    "- Threshold: 0.4\n",
    "\n",
    "Precision increases marginally, but the recall declines. The model becomes more conservative in predicting positive cases, resulting in fewer false positives but missing more actual positive cases.\n"
   ]
  },
  {
   "cell_type": "markdown",
   "id": "dc7e17c4",
   "metadata": {},
   "source": [
    "- Threshold: 0.5\n",
    "\n",
    " At this threshold, precision improves slightly, but the recall drops further. Balanced precision and recall, attempting to strike a balance between both metrics.   \n"
   ]
  },
  {
   "cell_type": "markdown",
   "id": "cd8be189",
   "metadata": {},
   "source": [
    "- Threshold: 0.6\n",
    "\n",
    "With the highest threshold, precision continues to rise, but the recall declines significantly. The model makes very confident predictions for positive cases but captures a much smaller portion of actual positive instances.    \n"
   ]
  },
  {
   "cell_type": "code",
   "execution_count": 6,
   "id": "a99e6f28",
   "metadata": {},
   "outputs": [
    {
     "data": {
      "image/png": "[encoded data removed]",
      "text/plain": [
       "<Figure size 640x480 with 1 Axes>"
      ]
     },
     "metadata": {},
     "output_type": "display_data"
    }
   ],
   "source": [
    "thresholds = [0.2, 0.3, 0.4, 0.5, 0.6]\n",
    "precision = [0.10, 0.12, 0.14, 0.17, 0.20]\n",
    "recall = [1, 0.96, 0.87, 0.77, 0.50]\n",
    "\n",
    "# Plot precision\n",
    "plt.plot(thresholds, precision, marker='o', label='Precision')\n",
    "\n",
    "# Plot recall\n",
    "plt.plot(thresholds, recall, marker='o', label='Recall')\n",
    "\n",
    "# Set labels and title\n",
    "plt.xlabel('Threshold')\n",
    "plt.ylabel('Value')\n",
    "plt.title('Precision-Recall at Different Thresholds')\n",
    "\n",
    "# Show legend\n",
    "plt.legend()\n",
    "\n",
    "# Show the plot\n",
    "plt.show()"
   ]
  },
  {
   "cell_type": "markdown",
   "id": "5b2179f1",
   "metadata": {},
   "source": [
    "From the curve , Threshold 0.5 provides a moderate balance between recall (0.77) and precision (0.17), aiming to minimize false negatives while reducing false positives to some extent."
   ]
  },
  {
   "cell_type": "markdown",
   "id": "02182cff",
   "metadata": {},
   "source": [
    "Now , we will plot ROC-AUC curve to evaluates the ability of the model to discriminate between positive and negative classes across different thresholds:"
   ]
  },
  {
   "cell_type": "code",
   "execution_count": 71,
   "id": "1466b986",
   "metadata": {},
   "outputs": [
    {
     "data": {
      "image/png": "[encoded data removed]",
      "text/plain": [
       "<Figure size 640x480 with 1 Axes>"
      ]
     },
     "metadata": {},
     "output_type": "display_data"
    },
    {
     "name": "stdout",
     "output_type": "stream",
     "text": [
      "Test AUC score: 0.73364988210604\n",
      "Train AUC score: 0.7418428281832227\n"
     ]
    }
   ],
   "source": [
    "#Get the probability for each point in the train set.\n",
    "y_proba_train = rf_pca.predict_proba(X_train_pca)[:,1]\n",
    "\n",
    "# Calculate ROC curve and AUC for for the train set\n",
    "fprs_train, tprs_train, thresholds_train = roc_curve(y_train, y_proba_train)\n",
    "roc_auc_train = roc_auc_score(y_train, y_proba_train)\n",
    "\n",
    "# Calculate ROC curve and AUC for the test set\n",
    "fprs_test, tprs_test, thresholds_test = roc_curve(y_test, y_probs_pca)\n",
    "roc_auc_test = roc_auc_score(y_test, y_probs_pca)\n",
    "  \n",
    "# Plot the ROC curve.\n",
    "plt.figure()\n",
    "plt.plot(fprs_train, tprs_train, color='darkorange', lw=2, label='train')\n",
    "plt.plot(fprs_test, tprs_test, lw=2, label='test')\n",
    "plt.plot([0, 1], [0, 1], color='navy', lw=2, linestyle='--')\n",
    "plt.xlabel('False Positive Rate')\n",
    "plt.ylabel('True Positive Rate')\n",
    "plt.title('ROC and AUC')\n",
    "plt.legend(loc=\"best\")\n",
    "plt.show()\n",
    "print(f\"Test AUC score: {roc_auc_test}\")\n",
    "print(f\"Train AUC score: {roc_auc_train}\")"
   ]
  },
  {
   "cell_type": "markdown",
   "id": "80b7c510",
   "metadata": {},
   "source": [
    "The model without PCA seems to perform slightly better based on the AUC scores. It shows a slightly higher AUC score for both the train and test sets, indicating better overall performance in distinguishing between positive and negative cases."
   ]
  },
  {
   "cell_type": "markdown",
   "id": "d721f9b2",
   "metadata": {},
   "source": [
    "**Summary :**"
   ]
  },
  {
   "cell_type": "markdown",
   "id": "5c05508a",
   "metadata": {},
   "source": [
    "- **Recall:** The model with PCA has slightly higher recall scores on both the training and test sets compared to the model without PCA.\n",
    "\n",
    "- **Accuracy:** The model without PCA exhibits higher accuracy on both the training and test sets compared to the model with PCA.\n",
    "\n",
    "- **AUC**: Both models demonstrate very close AUC scores, indicating similar overall performance in distinguishing between positive and negative cases.\n",
    "\n",
    "- **Balance between precision and recall**: The model without PCA, especially at a threshold of 0.5, seems to have a better balance between precision and recall. At this threshold, it shows relatively higher precision (0.18) and recall (0.75) for class 1 compared to the corresponding metrics of the model with PCA at the same threshold.In contrast, the model with PCA, while having higher recall, tends to have lower precision at the same threshold (0.17 precision for class 1 at a threshold of 0.5)."
   ]
  },
  {
   "cell_type": "markdown",
   "id": "200e8cee",
   "metadata": {},
   "source": [
    "## Conclusion<a id=\"Conclusion\"></a>"
   ]
  },
  {
   "cell_type": "markdown",
   "id": "35ea8dec",
   "metadata": {},
   "source": [
    "In comparing models with and without PCA, the analysis reveals that both Logistic Regression and Random Forest models without PCA showcase slightly better performance in terms of recall, AUC, and precision-recall balance compared to their PCA counterparts. The Logistic Regression model without PCA, specifically, demonstrates a marginally higher accuracy, with a ROC-AUC score of 0.7485 (compared to 0.7463 for Random Forest) and a balanced precision-recall trade-off, maintaining a recall of 0.75 with a precision of 0.18 at a threshold of 0.5. This nuanced advantage positions the Logistic Regression model without PCA as a slightly preferred choice over the Random Forest model in this evaluation. However, the decision between these models may also rely on additional contextual factors or computational considerations beyond the specified metrics, as their performance remains closely aligned across various evaluation criteria."
   ]
  }
 ],
 "metadata": {
  "kernelspec": {
   "display_name": "Python 3 (ipykernel)",
   "language": "python",
   "name": "python3"
  },
  "language_info": {
   "codemirror_mode": {
    "name": "ipython",
    "version": 3
   },
   "file_extension": ".py",
   "mimetype": "text/x-python",
   "name": "python",
   "nbconvert_exporter": "python",
   "pygments_lexer": "ipython3",
   "version": "3.11.5"
  }
 },
 "nbformat": 4,
 "nbformat_minor": 5
}
